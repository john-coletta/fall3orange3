{
 "cells": [
  {
   "cell_type": "markdown",
   "metadata": {},
   "source": [
    "# Machine Learning Project Code\n",
    "\n",
    "#### Import useful packages"
   ]
  },
  {
   "cell_type": "code",
   "execution_count": 2,
   "metadata": {},
   "outputs": [],
   "source": [
    "import pandas as pd\n",
    "import timeit\n",
    "import matplotlib.pyplot as plt\n",
    "import numpy as np\n",
    "\n",
    "%matplotlib inline"
   ]
  },
  {
   "cell_type": "markdown",
   "metadata": {},
   "source": [
    "#### Read in and clean data"
   ]
  },
  {
   "cell_type": "code",
   "execution_count": 35,
   "metadata": {},
   "outputs": [],
   "source": [
    "df = pd.read_csv('C:\\\\Users\\\\johnb\\\\OneDrive\\\\Documents\\\\MSA\\\\Fall 3\\\\Machine Learning\\\\MLProjectData.csv')"
   ]
  },
  {
   "cell_type": "code",
   "execution_count": 36,
   "metadata": {},
   "outputs": [
    {
     "data": {
      "text/html": [
       "<div>\n",
       "<style scoped>\n",
       "    .dataframe tbody tr th:only-of-type {\n",
       "        vertical-align: middle;\n",
       "    }\n",
       "\n",
       "    .dataframe tbody tr th {\n",
       "        vertical-align: top;\n",
       "    }\n",
       "\n",
       "    .dataframe thead th {\n",
       "        text-align: right;\n",
       "    }\n",
       "</style>\n",
       "<table border=\"1\" class=\"dataframe\">\n",
       "  <thead>\n",
       "    <tr style=\"text-align: right;\">\n",
       "      <th></th>\n",
       "      <th>num1</th>\n",
       "      <th>num2</th>\n",
       "      <th>num3</th>\n",
       "      <th>num4</th>\n",
       "      <th>num5</th>\n",
       "      <th>num6</th>\n",
       "      <th>num7</th>\n",
       "      <th>num8</th>\n",
       "      <th>num9</th>\n",
       "      <th>num10</th>\n",
       "      <th>...</th>\n",
       "      <th>cat18</th>\n",
       "      <th>cat19</th>\n",
       "      <th>cat20</th>\n",
       "      <th>cat21</th>\n",
       "      <th>cat22</th>\n",
       "      <th>cat23</th>\n",
       "      <th>cat24</th>\n",
       "      <th>cat25</th>\n",
       "      <th>cat26</th>\n",
       "      <th>target</th>\n",
       "    </tr>\n",
       "  </thead>\n",
       "  <tbody>\n",
       "    <tr>\n",
       "      <th>0</th>\n",
       "      <td>1424.241</td>\n",
       "      <td>15.70</td>\n",
       "      <td>-1.930008</td>\n",
       "      <td>-0.005399</td>\n",
       "      <td>-0.014426</td>\n",
       "      <td>-0.017944</td>\n",
       "      <td>0.011322</td>\n",
       "      <td>15.22</td>\n",
       "      <td>13.77</td>\n",
       "      <td>13.96</td>\n",
       "      <td>...</td>\n",
       "      <td>False</td>\n",
       "      <td>True</td>\n",
       "      <td>False</td>\n",
       "      <td>False</td>\n",
       "      <td>False</td>\n",
       "      <td>False</td>\n",
       "      <td>False</td>\n",
       "      <td>False</td>\n",
       "      <td>False</td>\n",
       "      <td>21.639999</td>\n",
       "    </tr>\n",
       "    <tr>\n",
       "      <th>1</th>\n",
       "      <td>983.787</td>\n",
       "      <td>15.59</td>\n",
       "      <td>0.190003</td>\n",
       "      <td>-0.000129</td>\n",
       "      <td>0.002850</td>\n",
       "      <td>0.017414</td>\n",
       "      <td>0.033371</td>\n",
       "      <td>15.15</td>\n",
       "      <td>15.54</td>\n",
       "      <td>16.64</td>\n",
       "      <td>...</td>\n",
       "      <td>False</td>\n",
       "      <td>False</td>\n",
       "      <td>False</td>\n",
       "      <td>False</td>\n",
       "      <td>False</td>\n",
       "      <td>False</td>\n",
       "      <td>False</td>\n",
       "      <td>False</td>\n",
       "      <td>False</td>\n",
       "      <td>19.919998</td>\n",
       "    </tr>\n",
       "    <tr>\n",
       "      <th>2</th>\n",
       "      <td>105.075</td>\n",
       "      <td>16.32</td>\n",
       "      <td>0.809998</td>\n",
       "      <td>0.000752</td>\n",
       "      <td>0.004340</td>\n",
       "      <td>0.025135</td>\n",
       "      <td>0.007954</td>\n",
       "      <td>16.23</td>\n",
       "      <td>16.71</td>\n",
       "      <td>17.44</td>\n",
       "      <td>...</td>\n",
       "      <td>False</td>\n",
       "      <td>False</td>\n",
       "      <td>False</td>\n",
       "      <td>False</td>\n",
       "      <td>False</td>\n",
       "      <td>False</td>\n",
       "      <td>False</td>\n",
       "      <td>False</td>\n",
       "      <td>False</td>\n",
       "      <td>21.150001</td>\n",
       "    </tr>\n",
       "    <tr>\n",
       "      <th>3</th>\n",
       "      <td>356.126</td>\n",
       "      <td>28.29</td>\n",
       "      <td>-1.409996</td>\n",
       "      <td>-0.011557</td>\n",
       "      <td>-0.020185</td>\n",
       "      <td>0.003352</td>\n",
       "      <td>-0.047518</td>\n",
       "      <td>26.66</td>\n",
       "      <td>26.24</td>\n",
       "      <td>28.18</td>\n",
       "      <td>...</td>\n",
       "      <td>False</td>\n",
       "      <td>False</td>\n",
       "      <td>False</td>\n",
       "      <td>False</td>\n",
       "      <td>False</td>\n",
       "      <td>False</td>\n",
       "      <td>False</td>\n",
       "      <td>False</td>\n",
       "      <td>False</td>\n",
       "      <td>19.360001</td>\n",
       "    </tr>\n",
       "    <tr>\n",
       "      <th>4</th>\n",
       "      <td>772.041</td>\n",
       "      <td>11.49</td>\n",
       "      <td>0.079987</td>\n",
       "      <td>0.001576</td>\n",
       "      <td>0.000724</td>\n",
       "      <td>0.025519</td>\n",
       "      <td>0.033136</td>\n",
       "      <td>11.76</td>\n",
       "      <td>11.97</td>\n",
       "      <td>10.74</td>\n",
       "      <td>...</td>\n",
       "      <td>False</td>\n",
       "      <td>False</td>\n",
       "      <td>False</td>\n",
       "      <td>False</td>\n",
       "      <td>False</td>\n",
       "      <td>False</td>\n",
       "      <td>False</td>\n",
       "      <td>False</td>\n",
       "      <td>False</td>\n",
       "      <td>21.400009</td>\n",
       "    </tr>\n",
       "  </tbody>\n",
       "</table>\n",
       "<p>5 rows × 86 columns</p>\n",
       "</div>"
      ],
      "text/plain": [
       "       num1   num2      num3      num4      num5      num6      num7   num8  \\\n",
       "0  1424.241  15.70 -1.930008 -0.005399 -0.014426 -0.017944  0.011322  15.22   \n",
       "1   983.787  15.59  0.190003 -0.000129  0.002850  0.017414  0.033371  15.15   \n",
       "2   105.075  16.32  0.809998  0.000752  0.004340  0.025135  0.007954  16.23   \n",
       "3   356.126  28.29 -1.409996 -0.011557 -0.020185  0.003352 -0.047518  26.66   \n",
       "4   772.041  11.49  0.079987  0.001576  0.000724  0.025519  0.033136  11.76   \n",
       "\n",
       "    num9  num10    ...      cat18  cat19  cat20  cat21  cat22  cat23  cat24  \\\n",
       "0  13.77  13.96    ...      False   True  False  False  False  False  False   \n",
       "1  15.54  16.64    ...      False  False  False  False  False  False  False   \n",
       "2  16.71  17.44    ...      False  False  False  False  False  False  False   \n",
       "3  26.24  28.18    ...      False  False  False  False  False  False  False   \n",
       "4  11.97  10.74    ...      False  False  False  False  False  False  False   \n",
       "\n",
       "   cat25  cat26     target  \n",
       "0  False  False  21.639999  \n",
       "1  False  False  19.919998  \n",
       "2  False  False  21.150001  \n",
       "3  False  False  19.360001  \n",
       "4  False  False  21.400009  \n",
       "\n",
       "[5 rows x 86 columns]"
      ]
     },
     "execution_count": 36,
     "metadata": {},
     "output_type": "execute_result"
    }
   ],
   "source": [
    "df.head()"
   ]
  },
  {
   "cell_type": "code",
   "execution_count": 37,
   "metadata": {},
   "outputs": [
    {
     "name": "stdout",
     "output_type": "stream",
     "text": [
      "B    1303\n",
      "C    1303\n",
      "D    1279\n",
      "E    1271\n",
      "A    1194\n",
      "Name: cat1, dtype: int64\n",
      "F    557\n",
      "H    554\n",
      "E    550\n",
      "J    550\n",
      "C    547\n",
      "L    529\n",
      "G    529\n",
      "D    527\n",
      "K    510\n",
      "A    509\n",
      "I    508\n",
      "B    480\n",
      "Name: cat2, dtype: int64\n",
      "False    6131\n",
      "True      219\n",
      "Name: cat3, dtype: int64\n",
      "False    6070\n",
      "True      280\n",
      "Name: cat4, dtype: int64\n",
      "False    6099\n",
      "True      251\n",
      "Name: cat5, dtype: int64\n",
      "False    6156\n",
      "True      194\n",
      "Name: cat6, dtype: int64\n",
      "False    6192\n",
      "True      158\n",
      "Name: cat7, dtype: int64\n",
      "False    6281\n",
      "True       69\n",
      "Name: cat8, dtype: int64\n",
      "False    6322\n",
      "True       28\n",
      "Name: cat9, dtype: int64\n",
      "False    6306\n",
      "True       44\n",
      "Name: cat10, dtype: int64\n",
      "False    6131\n",
      "True      219\n",
      "Name: cat11, dtype: int64\n",
      "False    6070\n",
      "True      280\n",
      "Name: cat12, dtype: int64\n",
      "False    6099\n",
      "True      251\n",
      "Name: cat13, dtype: int64\n",
      "False    6156\n",
      "True      194\n",
      "Name: cat14, dtype: int64\n",
      "False    6306\n",
      "True       44\n",
      "Name: cat15, dtype: int64\n",
      "False    6322\n",
      "True       28\n",
      "Name: cat16, dtype: int64\n",
      "False    6192\n",
      "True      158\n",
      "Name: cat17, dtype: int64\n",
      "False    6281\n",
      "True       69\n",
      "Name: cat18, dtype: int64\n",
      "False    6131\n",
      "True      219\n",
      "Name: cat19, dtype: int64\n",
      "False    6070\n",
      "True      280\n",
      "Name: cat20, dtype: int64\n",
      "False    6100\n",
      "True      250\n",
      "Name: cat21, dtype: int64\n",
      "False    6156\n",
      "True      194\n",
      "Name: cat22, dtype: int64\n",
      "False    6307\n",
      "True       43\n",
      "Name: cat23, dtype: int64\n",
      "False    6322\n",
      "True       28\n",
      "Name: cat24, dtype: int64\n",
      "False    6192\n",
      "True      158\n",
      "Name: cat25, dtype: int64\n",
      "False    6281\n",
      "True       69\n",
      "Name: cat26, dtype: int64\n"
     ]
    }
   ],
   "source": [
    "# See if any of the category have more than two levels\n",
    "for col in df.columns:\n",
    "    if col[0:3] == 'cat':\n",
    "        print(df[col].value_counts())"
   ]
  },
  {
   "cell_type": "code",
   "execution_count": 38,
   "metadata": {},
   "outputs": [
    {
     "data": {
      "text/html": [
       "<div>\n",
       "<style scoped>\n",
       "    .dataframe tbody tr th:only-of-type {\n",
       "        vertical-align: middle;\n",
       "    }\n",
       "\n",
       "    .dataframe tbody tr th {\n",
       "        vertical-align: top;\n",
       "    }\n",
       "\n",
       "    .dataframe thead th {\n",
       "        text-align: right;\n",
       "    }\n",
       "</style>\n",
       "<table border=\"1\" class=\"dataframe\">\n",
       "  <thead>\n",
       "    <tr style=\"text-align: right;\">\n",
       "      <th></th>\n",
       "      <th>cat1_A</th>\n",
       "      <th>cat1_B</th>\n",
       "      <th>cat1_C</th>\n",
       "      <th>cat1_D</th>\n",
       "      <th>cat1_E</th>\n",
       "    </tr>\n",
       "  </thead>\n",
       "  <tbody>\n",
       "    <tr>\n",
       "      <th>0</th>\n",
       "      <td>0</td>\n",
       "      <td>0</td>\n",
       "      <td>0</td>\n",
       "      <td>0</td>\n",
       "      <td>1</td>\n",
       "    </tr>\n",
       "    <tr>\n",
       "      <th>1</th>\n",
       "      <td>1</td>\n",
       "      <td>0</td>\n",
       "      <td>0</td>\n",
       "      <td>0</td>\n",
       "      <td>0</td>\n",
       "    </tr>\n",
       "    <tr>\n",
       "      <th>2</th>\n",
       "      <td>0</td>\n",
       "      <td>0</td>\n",
       "      <td>0</td>\n",
       "      <td>0</td>\n",
       "      <td>1</td>\n",
       "    </tr>\n",
       "    <tr>\n",
       "      <th>3</th>\n",
       "      <td>0</td>\n",
       "      <td>0</td>\n",
       "      <td>1</td>\n",
       "      <td>0</td>\n",
       "      <td>0</td>\n",
       "    </tr>\n",
       "    <tr>\n",
       "      <th>4</th>\n",
       "      <td>0</td>\n",
       "      <td>0</td>\n",
       "      <td>0</td>\n",
       "      <td>0</td>\n",
       "      <td>1</td>\n",
       "    </tr>\n",
       "  </tbody>\n",
       "</table>\n",
       "</div>"
      ],
      "text/plain": [
       "   cat1_A  cat1_B  cat1_C  cat1_D  cat1_E\n",
       "0       0       0       0       0       1\n",
       "1       1       0       0       0       0\n",
       "2       0       0       0       0       1\n",
       "3       0       0       1       0       0\n",
       "4       0       0       0       0       1"
      ]
     },
     "execution_count": 38,
     "metadata": {},
     "output_type": "execute_result"
    }
   ],
   "source": [
    "# Create dummies for cat1 variable\n",
    "dummies1 = pd.get_dummies(df['cat1'], prefix='cat1')\n",
    "dummies1.head()"
   ]
  },
  {
   "cell_type": "code",
   "execution_count": 39,
   "metadata": {},
   "outputs": [
    {
     "data": {
      "text/html": [
       "<div>\n",
       "<style scoped>\n",
       "    .dataframe tbody tr th:only-of-type {\n",
       "        vertical-align: middle;\n",
       "    }\n",
       "\n",
       "    .dataframe tbody tr th {\n",
       "        vertical-align: top;\n",
       "    }\n",
       "\n",
       "    .dataframe thead th {\n",
       "        text-align: right;\n",
       "    }\n",
       "</style>\n",
       "<table border=\"1\" class=\"dataframe\">\n",
       "  <thead>\n",
       "    <tr style=\"text-align: right;\">\n",
       "      <th></th>\n",
       "      <th>cat2_A</th>\n",
       "      <th>cat2_B</th>\n",
       "      <th>cat2_C</th>\n",
       "      <th>cat2_D</th>\n",
       "      <th>cat2_E</th>\n",
       "      <th>cat2_F</th>\n",
       "      <th>cat2_G</th>\n",
       "      <th>cat2_H</th>\n",
       "      <th>cat2_I</th>\n",
       "      <th>cat2_J</th>\n",
       "      <th>cat2_K</th>\n",
       "      <th>cat2_L</th>\n",
       "    </tr>\n",
       "  </thead>\n",
       "  <tbody>\n",
       "    <tr>\n",
       "      <th>0</th>\n",
       "      <td>0</td>\n",
       "      <td>0</td>\n",
       "      <td>0</td>\n",
       "      <td>1</td>\n",
       "      <td>0</td>\n",
       "      <td>0</td>\n",
       "      <td>0</td>\n",
       "      <td>0</td>\n",
       "      <td>0</td>\n",
       "      <td>0</td>\n",
       "      <td>0</td>\n",
       "      <td>0</td>\n",
       "    </tr>\n",
       "    <tr>\n",
       "      <th>1</th>\n",
       "      <td>0</td>\n",
       "      <td>0</td>\n",
       "      <td>0</td>\n",
       "      <td>0</td>\n",
       "      <td>0</td>\n",
       "      <td>0</td>\n",
       "      <td>1</td>\n",
       "      <td>0</td>\n",
       "      <td>0</td>\n",
       "      <td>0</td>\n",
       "      <td>0</td>\n",
       "      <td>0</td>\n",
       "    </tr>\n",
       "    <tr>\n",
       "      <th>2</th>\n",
       "      <td>0</td>\n",
       "      <td>0</td>\n",
       "      <td>0</td>\n",
       "      <td>0</td>\n",
       "      <td>0</td>\n",
       "      <td>0</td>\n",
       "      <td>0</td>\n",
       "      <td>0</td>\n",
       "      <td>0</td>\n",
       "      <td>0</td>\n",
       "      <td>1</td>\n",
       "      <td>0</td>\n",
       "    </tr>\n",
       "    <tr>\n",
       "      <th>3</th>\n",
       "      <td>0</td>\n",
       "      <td>0</td>\n",
       "      <td>0</td>\n",
       "      <td>0</td>\n",
       "      <td>0</td>\n",
       "      <td>0</td>\n",
       "      <td>0</td>\n",
       "      <td>0</td>\n",
       "      <td>0</td>\n",
       "      <td>0</td>\n",
       "      <td>0</td>\n",
       "      <td>1</td>\n",
       "    </tr>\n",
       "    <tr>\n",
       "      <th>4</th>\n",
       "      <td>0</td>\n",
       "      <td>1</td>\n",
       "      <td>0</td>\n",
       "      <td>0</td>\n",
       "      <td>0</td>\n",
       "      <td>0</td>\n",
       "      <td>0</td>\n",
       "      <td>0</td>\n",
       "      <td>0</td>\n",
       "      <td>0</td>\n",
       "      <td>0</td>\n",
       "      <td>0</td>\n",
       "    </tr>\n",
       "  </tbody>\n",
       "</table>\n",
       "</div>"
      ],
      "text/plain": [
       "   cat2_A  cat2_B  cat2_C  cat2_D  cat2_E  cat2_F  cat2_G  cat2_H  cat2_I  \\\n",
       "0       0       0       0       1       0       0       0       0       0   \n",
       "1       0       0       0       0       0       0       1       0       0   \n",
       "2       0       0       0       0       0       0       0       0       0   \n",
       "3       0       0       0       0       0       0       0       0       0   \n",
       "4       0       1       0       0       0       0       0       0       0   \n",
       "\n",
       "   cat2_J  cat2_K  cat2_L  \n",
       "0       0       0       0  \n",
       "1       0       0       0  \n",
       "2       0       1       0  \n",
       "3       0       0       1  \n",
       "4       0       0       0  "
      ]
     },
     "execution_count": 39,
     "metadata": {},
     "output_type": "execute_result"
    }
   ],
   "source": [
    "# Create dummies for cat2 variable\n",
    "dummies2 = pd.get_dummies(df['cat2'], prefix='cat2')\n",
    "dummies2.head()"
   ]
  },
  {
   "cell_type": "code",
   "execution_count": 40,
   "metadata": {},
   "outputs": [],
   "source": [
    "# Join the data with the dummies and drop the original columns\n",
    "df_final = df.join(dummies1).join(dummies2)\n",
    "df_final.drop(['cat1','cat2'], axis=1, inplace=True)"
   ]
  },
  {
   "cell_type": "code",
   "execution_count": 41,
   "metadata": {},
   "outputs": [
    {
     "data": {
      "text/html": [
       "<div>\n",
       "<style scoped>\n",
       "    .dataframe tbody tr th:only-of-type {\n",
       "        vertical-align: middle;\n",
       "    }\n",
       "\n",
       "    .dataframe tbody tr th {\n",
       "        vertical-align: top;\n",
       "    }\n",
       "\n",
       "    .dataframe thead th {\n",
       "        text-align: right;\n",
       "    }\n",
       "</style>\n",
       "<table border=\"1\" class=\"dataframe\">\n",
       "  <thead>\n",
       "    <tr style=\"text-align: right;\">\n",
       "      <th></th>\n",
       "      <th>num1</th>\n",
       "      <th>num2</th>\n",
       "      <th>num3</th>\n",
       "      <th>num4</th>\n",
       "      <th>num5</th>\n",
       "      <th>num6</th>\n",
       "      <th>num7</th>\n",
       "      <th>num8</th>\n",
       "      <th>num9</th>\n",
       "      <th>num10</th>\n",
       "      <th>...</th>\n",
       "      <th>cat2_C</th>\n",
       "      <th>cat2_D</th>\n",
       "      <th>cat2_E</th>\n",
       "      <th>cat2_F</th>\n",
       "      <th>cat2_G</th>\n",
       "      <th>cat2_H</th>\n",
       "      <th>cat2_I</th>\n",
       "      <th>cat2_J</th>\n",
       "      <th>cat2_K</th>\n",
       "      <th>cat2_L</th>\n",
       "    </tr>\n",
       "  </thead>\n",
       "  <tbody>\n",
       "    <tr>\n",
       "      <th>count</th>\n",
       "      <td>6350.000000</td>\n",
       "      <td>6350.000000</td>\n",
       "      <td>6350.000000</td>\n",
       "      <td>6350.000000</td>\n",
       "      <td>6350.000000</td>\n",
       "      <td>6350.000000</td>\n",
       "      <td>6350.000000</td>\n",
       "      <td>6350.000000</td>\n",
       "      <td>6350.000000</td>\n",
       "      <td>6350.000000</td>\n",
       "      <td>...</td>\n",
       "      <td>6350.000000</td>\n",
       "      <td>6350.000000</td>\n",
       "      <td>6350.000000</td>\n",
       "      <td>6350.000000</td>\n",
       "      <td>6350.000000</td>\n",
       "      <td>6350.000000</td>\n",
       "      <td>6350.000000</td>\n",
       "      <td>6350.000000</td>\n",
       "      <td>6350.000000</td>\n",
       "      <td>6350.000000</td>\n",
       "    </tr>\n",
       "    <tr>\n",
       "      <th>mean</th>\n",
       "      <td>849.859489</td>\n",
       "      <td>19.424687</td>\n",
       "      <td>0.035514</td>\n",
       "      <td>0.000350</td>\n",
       "      <td>0.000692</td>\n",
       "      <td>0.002359</td>\n",
       "      <td>0.004674</td>\n",
       "      <td>19.423997</td>\n",
       "      <td>19.423383</td>\n",
       "      <td>19.422728</td>\n",
       "      <td>...</td>\n",
       "      <td>0.086142</td>\n",
       "      <td>0.082992</td>\n",
       "      <td>0.086614</td>\n",
       "      <td>0.087717</td>\n",
       "      <td>0.083307</td>\n",
       "      <td>0.087244</td>\n",
       "      <td>0.080000</td>\n",
       "      <td>0.086614</td>\n",
       "      <td>0.080315</td>\n",
       "      <td>0.083307</td>\n",
       "    </tr>\n",
       "    <tr>\n",
       "      <th>std</th>\n",
       "      <td>1000.217417</td>\n",
       "      <td>8.141230</td>\n",
       "      <td>1.378046</td>\n",
       "      <td>0.011589</td>\n",
       "      <td>0.015842</td>\n",
       "      <td>0.026975</td>\n",
       "      <td>0.036410</td>\n",
       "      <td>8.141693</td>\n",
       "      <td>8.142129</td>\n",
       "      <td>8.142565</td>\n",
       "      <td>...</td>\n",
       "      <td>0.280595</td>\n",
       "      <td>0.275892</td>\n",
       "      <td>0.281291</td>\n",
       "      <td>0.282904</td>\n",
       "      <td>0.276368</td>\n",
       "      <td>0.282215</td>\n",
       "      <td>0.271315</td>\n",
       "      <td>0.281291</td>\n",
       "      <td>0.271802</td>\n",
       "      <td>0.276368</td>\n",
       "    </tr>\n",
       "    <tr>\n",
       "      <th>min</th>\n",
       "      <td>0.052000</td>\n",
       "      <td>9.140000</td>\n",
       "      <td>-15.120010</td>\n",
       "      <td>-0.098448</td>\n",
       "      <td>-0.133555</td>\n",
       "      <td>-0.237463</td>\n",
       "      <td>-0.270464</td>\n",
       "      <td>9.140000</td>\n",
       "      <td>9.140000</td>\n",
       "      <td>9.140000</td>\n",
       "      <td>...</td>\n",
       "      <td>0.000000</td>\n",
       "      <td>0.000000</td>\n",
       "      <td>0.000000</td>\n",
       "      <td>0.000000</td>\n",
       "      <td>0.000000</td>\n",
       "      <td>0.000000</td>\n",
       "      <td>0.000000</td>\n",
       "      <td>0.000000</td>\n",
       "      <td>0.000000</td>\n",
       "      <td>0.000000</td>\n",
       "    </tr>\n",
       "    <tr>\n",
       "      <th>25%</th>\n",
       "      <td>68.644250</td>\n",
       "      <td>13.420000</td>\n",
       "      <td>-0.529998</td>\n",
       "      <td>-0.004574</td>\n",
       "      <td>-0.006676</td>\n",
       "      <td>-0.010854</td>\n",
       "      <td>-0.012989</td>\n",
       "      <td>13.420000</td>\n",
       "      <td>13.420000</td>\n",
       "      <td>13.420000</td>\n",
       "      <td>...</td>\n",
       "      <td>0.000000</td>\n",
       "      <td>0.000000</td>\n",
       "      <td>0.000000</td>\n",
       "      <td>0.000000</td>\n",
       "      <td>0.000000</td>\n",
       "      <td>0.000000</td>\n",
       "      <td>0.000000</td>\n",
       "      <td>0.000000</td>\n",
       "      <td>0.000000</td>\n",
       "      <td>0.000000</td>\n",
       "    </tr>\n",
       "    <tr>\n",
       "      <th>50%</th>\n",
       "      <td>558.720000</td>\n",
       "      <td>17.540000</td>\n",
       "      <td>0.079990</td>\n",
       "      <td>0.000598</td>\n",
       "      <td>0.001327</td>\n",
       "      <td>0.004094</td>\n",
       "      <td>0.007847</td>\n",
       "      <td>17.540000</td>\n",
       "      <td>17.540000</td>\n",
       "      <td>17.540000</td>\n",
       "      <td>...</td>\n",
       "      <td>0.000000</td>\n",
       "      <td>0.000000</td>\n",
       "      <td>0.000000</td>\n",
       "      <td>0.000000</td>\n",
       "      <td>0.000000</td>\n",
       "      <td>0.000000</td>\n",
       "      <td>0.000000</td>\n",
       "      <td>0.000000</td>\n",
       "      <td>0.000000</td>\n",
       "      <td>0.000000</td>\n",
       "    </tr>\n",
       "    <tr>\n",
       "      <th>75%</th>\n",
       "      <td>1250.553750</td>\n",
       "      <td>23.010000</td>\n",
       "      <td>0.639999</td>\n",
       "      <td>0.005726</td>\n",
       "      <td>0.008740</td>\n",
       "      <td>0.017024</td>\n",
       "      <td>0.025125</td>\n",
       "      <td>23.010000</td>\n",
       "      <td>23.010000</td>\n",
       "      <td>23.010000</td>\n",
       "      <td>...</td>\n",
       "      <td>0.000000</td>\n",
       "      <td>0.000000</td>\n",
       "      <td>0.000000</td>\n",
       "      <td>0.000000</td>\n",
       "      <td>0.000000</td>\n",
       "      <td>0.000000</td>\n",
       "      <td>0.000000</td>\n",
       "      <td>0.000000</td>\n",
       "      <td>0.000000</td>\n",
       "      <td>0.000000</td>\n",
       "    </tr>\n",
       "    <tr>\n",
       "      <th>max</th>\n",
       "      <td>8710.263000</td>\n",
       "      <td>80.860000</td>\n",
       "      <td>9.529999</td>\n",
       "      <td>0.145198</td>\n",
       "      <td>0.128249</td>\n",
       "      <td>0.173543</td>\n",
       "      <td>0.205891</td>\n",
       "      <td>80.860000</td>\n",
       "      <td>80.860000</td>\n",
       "      <td>80.860000</td>\n",
       "      <td>...</td>\n",
       "      <td>1.000000</td>\n",
       "      <td>1.000000</td>\n",
       "      <td>1.000000</td>\n",
       "      <td>1.000000</td>\n",
       "      <td>1.000000</td>\n",
       "      <td>1.000000</td>\n",
       "      <td>1.000000</td>\n",
       "      <td>1.000000</td>\n",
       "      <td>1.000000</td>\n",
       "      <td>1.000000</td>\n",
       "    </tr>\n",
       "  </tbody>\n",
       "</table>\n",
       "<p>8 rows × 77 columns</p>\n",
       "</div>"
      ],
      "text/plain": [
       "              num1         num2         num3         num4         num5  \\\n",
       "count  6350.000000  6350.000000  6350.000000  6350.000000  6350.000000   \n",
       "mean    849.859489    19.424687     0.035514     0.000350     0.000692   \n",
       "std    1000.217417     8.141230     1.378046     0.011589     0.015842   \n",
       "min       0.052000     9.140000   -15.120010    -0.098448    -0.133555   \n",
       "25%      68.644250    13.420000    -0.529998    -0.004574    -0.006676   \n",
       "50%     558.720000    17.540000     0.079990     0.000598     0.001327   \n",
       "75%    1250.553750    23.010000     0.639999     0.005726     0.008740   \n",
       "max    8710.263000    80.860000     9.529999     0.145198     0.128249   \n",
       "\n",
       "              num6         num7         num8         num9        num10  \\\n",
       "count  6350.000000  6350.000000  6350.000000  6350.000000  6350.000000   \n",
       "mean      0.002359     0.004674    19.423997    19.423383    19.422728   \n",
       "std       0.026975     0.036410     8.141693     8.142129     8.142565   \n",
       "min      -0.237463    -0.270464     9.140000     9.140000     9.140000   \n",
       "25%      -0.010854    -0.012989    13.420000    13.420000    13.420000   \n",
       "50%       0.004094     0.007847    17.540000    17.540000    17.540000   \n",
       "75%       0.017024     0.025125    23.010000    23.010000    23.010000   \n",
       "max       0.173543     0.205891    80.860000    80.860000    80.860000   \n",
       "\n",
       "          ...            cat2_C       cat2_D       cat2_E       cat2_F  \\\n",
       "count     ...       6350.000000  6350.000000  6350.000000  6350.000000   \n",
       "mean      ...          0.086142     0.082992     0.086614     0.087717   \n",
       "std       ...          0.280595     0.275892     0.281291     0.282904   \n",
       "min       ...          0.000000     0.000000     0.000000     0.000000   \n",
       "25%       ...          0.000000     0.000000     0.000000     0.000000   \n",
       "50%       ...          0.000000     0.000000     0.000000     0.000000   \n",
       "75%       ...          0.000000     0.000000     0.000000     0.000000   \n",
       "max       ...          1.000000     1.000000     1.000000     1.000000   \n",
       "\n",
       "            cat2_G       cat2_H       cat2_I       cat2_J       cat2_K  \\\n",
       "count  6350.000000  6350.000000  6350.000000  6350.000000  6350.000000   \n",
       "mean      0.083307     0.087244     0.080000     0.086614     0.080315   \n",
       "std       0.276368     0.282215     0.271315     0.281291     0.271802   \n",
       "min       0.000000     0.000000     0.000000     0.000000     0.000000   \n",
       "25%       0.000000     0.000000     0.000000     0.000000     0.000000   \n",
       "50%       0.000000     0.000000     0.000000     0.000000     0.000000   \n",
       "75%       0.000000     0.000000     0.000000     0.000000     0.000000   \n",
       "max       1.000000     1.000000     1.000000     1.000000     1.000000   \n",
       "\n",
       "            cat2_L  \n",
       "count  6350.000000  \n",
       "mean      0.083307  \n",
       "std       0.276368  \n",
       "min       0.000000  \n",
       "25%       0.000000  \n",
       "50%       0.000000  \n",
       "75%       0.000000  \n",
       "max       1.000000  \n",
       "\n",
       "[8 rows x 77 columns]"
      ]
     },
     "execution_count": 41,
     "metadata": {},
     "output_type": "execute_result"
    }
   ],
   "source": [
    "df_final.describe()"
   ]
  },
  {
   "cell_type": "code",
   "execution_count": 42,
   "metadata": {},
   "outputs": [],
   "source": [
    "# Create the variable and target subsets\n",
    "var = df_final.drop('target',axis=1)\n",
    "target = df_final['target']"
   ]
  },
  {
   "cell_type": "markdown",
   "metadata": {},
   "source": [
    "#### Basic OLS Linear Model"
   ]
  },
  {
   "cell_type": "code",
   "execution_count": 15,
   "metadata": {},
   "outputs": [],
   "source": [
    "from sklearn import linear_model\n",
    "from sklearn.metrics import mean_absolute_error\n",
    "from sklearn.model_selection import GridSearchCV, cross_validate, RandomizedSearchCV, train_test_split"
   ]
  },
  {
   "cell_type": "code",
   "execution_count": 9,
   "metadata": {},
   "outputs": [
    {
     "data": {
      "text/plain": [
       "0.9602879158667785"
      ]
     },
     "execution_count": 9,
     "metadata": {},
     "output_type": "execute_result"
    }
   ],
   "source": [
    "# Performe a train-test split and calculate the baseline MAE\n",
    "var_train, var_test, target_train, target_test = train_test_split(var, target, test_size=0.3, random_state=69)\n",
    "baseline = [target_train.mean()] * len(target_test)\n",
    "base_score = mean_absolute_error(target_test, baseline)\n",
    "base_score"
   ]
  },
  {
   "cell_type": "code",
   "execution_count": 14,
   "metadata": {},
   "outputs": [
    {
     "data": {
      "text/plain": [
       "LinearRegression(copy_X=True, fit_intercept=True, n_jobs=None,\n",
       "         normalize=False)"
      ]
     },
     "execution_count": 14,
     "metadata": {},
     "output_type": "execute_result"
    }
   ],
   "source": [
    "# Initialize and fit the model\n",
    "reg = linear_model.LinearRegression()\n",
    "reg.fit(var_train, target_train)"
   ]
  },
  {
   "cell_type": "code",
   "execution_count": 15,
   "metadata": {},
   "outputs": [
    {
     "data": {
      "text/plain": [
       "-0.0017441789738017466"
      ]
     },
     "execution_count": 15,
     "metadata": {},
     "output_type": "execute_result"
    }
   ],
   "source": [
    "# R-squared\n",
    "reg.score(var_test, target_test)"
   ]
  },
  {
   "cell_type": "code",
   "execution_count": 16,
   "metadata": {},
   "outputs": [
    {
     "data": {
      "text/plain": [
       "-0.006227093595627897"
      ]
     },
     "execution_count": 16,
     "metadata": {},
     "output_type": "execute_result"
    }
   ],
   "source": [
    "# Predict on the test set\n",
    "preds = reg.predict(var_test)\n",
    "OLS_mae = mean_absolute_error(target_test, preds)\n",
    "# Difference between baseline and OLS\n",
    "base_score - OLS_mae"
   ]
  },
  {
   "cell_type": "markdown",
   "metadata": {},
   "source": [
    "#### Reguarlized Regression (LASSO)"
   ]
  },
  {
   "cell_type": "code",
   "execution_count": 17,
   "metadata": {},
   "outputs": [
    {
     "data": {
      "text/plain": [
       "Lasso(alpha=1.0, copy_X=True, fit_intercept=True, max_iter=1000,\n",
       "   normalize=False, positive=False, precompute=False, random_state=None,\n",
       "   selection='cyclic', tol=0.0001, warm_start=False)"
      ]
     },
     "execution_count": 17,
     "metadata": {},
     "output_type": "execute_result"
    }
   ],
   "source": [
    "# Initialize and fit the model\n",
    "lasso = linear_model.Lasso()\n",
    "lasso.fit(var_train, target_train)"
   ]
  },
  {
   "cell_type": "code",
   "execution_count": 18,
   "metadata": {},
   "outputs": [
    {
     "data": {
      "text/plain": [
       "0.000613759129573177"
      ]
     },
     "execution_count": 18,
     "metadata": {},
     "output_type": "execute_result"
    }
   ],
   "source": [
    "# Get predictions and score\n",
    "lasso_preds = lasso.predict(var_test)\n",
    "lasso_mae = mean_absolute_error(target_test, lasso_preds)\n",
    "base_score - lasso_mae"
   ]
  },
  {
   "cell_type": "markdown",
   "metadata": {},
   "source": [
    "#### Decision Trees"
   ]
  },
  {
   "cell_type": "code",
   "execution_count": 16,
   "metadata": {},
   "outputs": [],
   "source": [
    "from sklearn.tree import DecisionTreeRegressor"
   ]
  },
  {
   "cell_type": "code",
   "execution_count": 19,
   "metadata": {},
   "outputs": [],
   "source": [
    "# Initialize and use cross-validation to score\n",
    "tree = DecisionTreeRegressor()\n",
    "cv = cross_validate(tree, var, target, scoring='neg_mean_absolute_error', return_train_score=True, cv=5)"
   ]
  },
  {
   "cell_type": "code",
   "execution_count": 20,
   "metadata": {},
   "outputs": [
    {
     "data": {
      "text/plain": [
       "dict_keys(['fit_time', 'score_time', 'test_score', 'train_score'])"
      ]
     },
     "execution_count": 20,
     "metadata": {},
     "output_type": "execute_result"
    }
   ],
   "source": [
    "cv.keys()"
   ]
  },
  {
   "cell_type": "code",
   "execution_count": 21,
   "metadata": {},
   "outputs": [
    {
     "data": {
      "text/plain": [
       "array([-1.468004  , -1.41615268, -1.41121311, -1.46245574, -1.38853182])"
      ]
     },
     "execution_count": 21,
     "metadata": {},
     "output_type": "execute_result"
    }
   ],
   "source": [
    "cv['test_score']"
   ]
  },
  {
   "cell_type": "code",
   "execution_count": 22,
   "metadata": {},
   "outputs": [
    {
     "data": {
      "text/plain": [
       "array([-4.25590551e-07, -7.58038058e-07, -7.39304462e-07, -4.58825459e-07,\n",
       "       -3.84383202e-07])"
      ]
     },
     "execution_count": 22,
     "metadata": {},
     "output_type": "execute_result"
    }
   ],
   "source": [
    "cv['train_score']"
   ]
  },
  {
   "cell_type": "code",
   "execution_count": 23,
   "metadata": {},
   "outputs": [
    {
     "data": {
      "text/plain": [
       "GridSearchCV(cv=5, error_score='raise-deprecating',\n",
       "       estimator=DecisionTreeRegressor(criterion='mse', max_depth=None, max_features=None,\n",
       "           max_leaf_nodes=None, min_impurity_decrease=0.0,\n",
       "           min_impurity_split=None, min_samples_leaf=1,\n",
       "           min_samples_split=2, min_weight_fraction_leaf=0.0,\n",
       "           presort=False, random_state=None, splitter='best'),\n",
       "       fit_params=None, iid='warn', n_jobs=None,\n",
       "       param_grid={'max_depth': [1, 2, 3, 4, 5, 6, 7, 8, 9, 10], 'min_samples_split': [2, 5, 10, 20], 'min_samples_leaf': [1, 2, 5, 8, 10, 20, 30, 40]},\n",
       "       pre_dispatch='2*n_jobs', refit=True, return_train_score='warn',\n",
       "       scoring='neg_mean_absolute_error', verbose=0)"
      ]
     },
     "execution_count": 23,
     "metadata": {},
     "output_type": "execute_result"
    }
   ],
   "source": [
    "# Set up the parameters for grid search\n",
    "tree_params = {'max_depth': [i+1 for i in range(10)], 'min_samples_split' :[2,5,10,20], 'min_samples_leaf':[1,2,5,8,10,20,30,40]}\n",
    "grid = GridSearchCV(tree, param_grid=tree_params,scoring='neg_mean_absolute_error', cv=5)\n",
    "grid.fit(var, target)"
   ]
  },
  {
   "cell_type": "code",
   "execution_count": 127,
   "metadata": {},
   "outputs": [
    {
     "name": "stderr",
     "output_type": "stream",
     "text": [
      "C:\\Users\\johnb\\Anaconda3\\lib\\site-packages\\sklearn\\utils\\deprecation.py:125: FutureWarning: You are accessing a training score ('split0_train_score'), which will not be available by default any more in 0.21. If you need training scores, please set return_train_score=True\n",
      "  warnings.warn(*warn_args, **warn_kwargs)\n",
      "C:\\Users\\johnb\\Anaconda3\\lib\\site-packages\\sklearn\\utils\\deprecation.py:125: FutureWarning: You are accessing a training score ('split1_train_score'), which will not be available by default any more in 0.21. If you need training scores, please set return_train_score=True\n",
      "  warnings.warn(*warn_args, **warn_kwargs)\n",
      "C:\\Users\\johnb\\Anaconda3\\lib\\site-packages\\sklearn\\utils\\deprecation.py:125: FutureWarning: You are accessing a training score ('split2_train_score'), which will not be available by default any more in 0.21. If you need training scores, please set return_train_score=True\n",
      "  warnings.warn(*warn_args, **warn_kwargs)\n",
      "C:\\Users\\johnb\\Anaconda3\\lib\\site-packages\\sklearn\\utils\\deprecation.py:125: FutureWarning: You are accessing a training score ('split3_train_score'), which will not be available by default any more in 0.21. If you need training scores, please set return_train_score=True\n",
      "  warnings.warn(*warn_args, **warn_kwargs)\n",
      "C:\\Users\\johnb\\Anaconda3\\lib\\site-packages\\sklearn\\utils\\deprecation.py:125: FutureWarning: You are accessing a training score ('split4_train_score'), which will not be available by default any more in 0.21. If you need training scores, please set return_train_score=True\n",
      "  warnings.warn(*warn_args, **warn_kwargs)\n",
      "C:\\Users\\johnb\\Anaconda3\\lib\\site-packages\\sklearn\\utils\\deprecation.py:125: FutureWarning: You are accessing a training score ('mean_train_score'), which will not be available by default any more in 0.21. If you need training scores, please set return_train_score=True\n",
      "  warnings.warn(*warn_args, **warn_kwargs)\n",
      "C:\\Users\\johnb\\Anaconda3\\lib\\site-packages\\sklearn\\utils\\deprecation.py:125: FutureWarning: You are accessing a training score ('std_train_score'), which will not be available by default any more in 0.21. If you need training scores, please set return_train_score=True\n",
      "  warnings.warn(*warn_args, **warn_kwargs)\n"
     ]
    },
    {
     "data": {
      "text/plain": [
       "0.005318568231099108"
      ]
     },
     "execution_count": 127,
     "metadata": {},
     "output_type": "execute_result"
    }
   ],
   "source": [
    "# Score off the best model\n",
    "grid_df = pd.DataFrame(grid.cv_results_)\n",
    "base_score - (-1 * grid_df['mean_test_score'].max())"
   ]
  },
  {
   "cell_type": "code",
   "execution_count": 128,
   "metadata": {},
   "outputs": [
    {
     "data": {
      "text/html": [
       "<div>\n",
       "<style scoped>\n",
       "    .dataframe tbody tr th:only-of-type {\n",
       "        vertical-align: middle;\n",
       "    }\n",
       "\n",
       "    .dataframe tbody tr th {\n",
       "        vertical-align: top;\n",
       "    }\n",
       "\n",
       "    .dataframe thead th {\n",
       "        text-align: right;\n",
       "    }\n",
       "</style>\n",
       "<table border=\"1\" class=\"dataframe\">\n",
       "  <thead>\n",
       "    <tr style=\"text-align: right;\">\n",
       "      <th></th>\n",
       "      <th>mean_fit_time</th>\n",
       "      <th>std_fit_time</th>\n",
       "      <th>mean_score_time</th>\n",
       "      <th>std_score_time</th>\n",
       "      <th>param_max_depth</th>\n",
       "      <th>param_min_samples_leaf</th>\n",
       "      <th>param_min_samples_split</th>\n",
       "      <th>params</th>\n",
       "      <th>split0_test_score</th>\n",
       "      <th>split1_test_score</th>\n",
       "      <th>...</th>\n",
       "      <th>mean_test_score</th>\n",
       "      <th>std_test_score</th>\n",
       "      <th>rank_test_score</th>\n",
       "      <th>split0_train_score</th>\n",
       "      <th>split1_train_score</th>\n",
       "      <th>split2_train_score</th>\n",
       "      <th>split3_train_score</th>\n",
       "      <th>split4_train_score</th>\n",
       "      <th>mean_train_score</th>\n",
       "      <th>std_train_score</th>\n",
       "    </tr>\n",
       "  </thead>\n",
       "  <tbody>\n",
       "    <tr>\n",
       "      <th>46</th>\n",
       "      <td>0.09057</td>\n",
       "      <td>0.003052</td>\n",
       "      <td>0.007169</td>\n",
       "      <td>0.00074</td>\n",
       "      <td>2</td>\n",
       "      <td>8</td>\n",
       "      <td>10</td>\n",
       "      <td>{'max_depth': 2, 'min_samples_leaf': 8, 'min_s...</td>\n",
       "      <td>-0.95312</td>\n",
       "      <td>-0.963466</td>\n",
       "      <td>...</td>\n",
       "      <td>-0.954969</td>\n",
       "      <td>0.013405</td>\n",
       "      <td>1</td>\n",
       "      <td>-0.950908</td>\n",
       "      <td>-0.948507</td>\n",
       "      <td>-0.956669</td>\n",
       "      <td>-0.947486</td>\n",
       "      <td>-0.950721</td>\n",
       "      <td>-0.950858</td>\n",
       "      <td>0.003184</td>\n",
       "    </tr>\n",
       "  </tbody>\n",
       "</table>\n",
       "<p>1 rows × 23 columns</p>\n",
       "</div>"
      ],
      "text/plain": [
       "    mean_fit_time  std_fit_time  mean_score_time  std_score_time  \\\n",
       "46        0.09057      0.003052         0.007169         0.00074   \n",
       "\n",
       "   param_max_depth param_min_samples_leaf param_min_samples_split  \\\n",
       "46               2                      8                      10   \n",
       "\n",
       "                                               params  split0_test_score  \\\n",
       "46  {'max_depth': 2, 'min_samples_leaf': 8, 'min_s...           -0.95312   \n",
       "\n",
       "    split1_test_score       ...         mean_test_score  std_test_score  \\\n",
       "46          -0.963466       ...               -0.954969        0.013405   \n",
       "\n",
       "    rank_test_score  split0_train_score  split1_train_score  \\\n",
       "46                1           -0.950908           -0.948507   \n",
       "\n",
       "    split2_train_score  split3_train_score  split4_train_score  \\\n",
       "46           -0.956669           -0.947486           -0.950721   \n",
       "\n",
       "    mean_train_score  std_train_score  \n",
       "46         -0.950858         0.003184  \n",
       "\n",
       "[1 rows x 23 columns]"
      ]
     },
     "execution_count": 128,
     "metadata": {},
     "output_type": "execute_result"
    }
   ],
   "source": [
    "grid_df[grid_df['mean_test_score']==grid_df['mean_test_score'].max()]"
   ]
  },
  {
   "cell_type": "markdown",
   "metadata": {},
   "source": [
    "#### Random Forests"
   ]
  },
  {
   "cell_type": "code",
   "execution_count": 17,
   "metadata": {},
   "outputs": [],
   "source": [
    "from sklearn.ensemble import RandomForestRegressor"
   ]
  },
  {
   "cell_type": "code",
   "execution_count": 91,
   "metadata": {},
   "outputs": [
    {
     "name": "stdout",
     "output_type": "stream",
     "text": [
      "time:  62.301276814585435\n"
     ]
    }
   ],
   "source": [
    "# Set up and fit random forest\n",
    "start = timeit.default_timer()\n",
    "test_forest = RandomForestRegressor(n_estimators=500, n_jobs=6, random_state=69)\n",
    "test_forest.fit(var_train, target_train)\n",
    "stop = timeit.default_timer()\n",
    "\n",
    "print('time: ',stop-start)"
   ]
  },
  {
   "cell_type": "code",
   "execution_count": 92,
   "metadata": {},
   "outputs": [
    {
     "data": {
      "text/plain": [
       "-0.018224755261102565"
      ]
     },
     "execution_count": 92,
     "metadata": {},
     "output_type": "execute_result"
    }
   ],
   "source": [
    "# Get predictions and score\n",
    "test_forest_preds = test_forest.predict(var_test)\n",
    "test_forest_mae = mean_absolute_error(target_test, test_forest_preds)\n",
    "base_score - test_forest_mae"
   ]
  },
  {
   "cell_type": "code",
   "execution_count": 69,
   "metadata": {},
   "outputs": [
    {
     "name": "stdout",
     "output_type": "stream",
     "text": [
      "time:  369.8960190282014\n"
     ]
    }
   ],
   "source": [
    "# Also run with cross-validation\n",
    "start = timeit.default_timer()\n",
    "cv_forest = cross_validate(test_forest, var, target, scoring=['neg_mean_absolute_error','neg_mean_squared_error'], return_train_score=True, cv=5)\n",
    "stop = timeit.default_timer()\n",
    "\n",
    "print('time: ',stop-start)"
   ]
  },
  {
   "cell_type": "code",
   "execution_count": 77,
   "metadata": {},
   "outputs": [
    {
     "name": "stdout",
     "output_type": "stream",
     "text": [
      "[-0.36292071 -0.36276081 -0.36489346 -0.36403172 -0.364787  ]\n",
      "[-0.29044786 -0.29130447 -0.29886637 -0.29534025 -0.30701109]\n"
     ]
    }
   ],
   "source": [
    "print(cv_forest['train_neg_mean_absolute_error'])\n",
    "print(cv_forest['train_neg_mean_squared_error'])"
   ]
  },
  {
   "cell_type": "code",
   "execution_count": 78,
   "metadata": {},
   "outputs": [
    {
     "name": "stdout",
     "output_type": "stream",
     "text": [
      "[-0.98300467 -0.98199264 -0.95950743 -0.99118755 -0.98190623]\n",
      "[-2.18072445 -2.23154712 -1.9485578  -2.2361245  -1.95170937]\n"
     ]
    }
   ],
   "source": [
    "print(cv_forest['test_neg_mean_absolute_error'])\n",
    "print(cv_forest['test_neg_mean_squared_error'])"
   ]
  },
  {
   "cell_type": "code",
   "execution_count": 93,
   "metadata": {},
   "outputs": [],
   "source": [
    "# Set up forest for grid search\n",
    "forest = RandomForestRegressor(random_state=69)\n",
    "forest_params = {'n_estimators':[10,100,1000], 'max_features':['auto','log2',10]}"
   ]
  },
  {
   "cell_type": "code",
   "execution_count": 97,
   "metadata": {},
   "outputs": [],
   "source": [
    "forest_search = GridSearchCV(forest, param_grid=forest_params, scoring=['neg_mean_absolute_error','neg_mean_squared_error'], cv=5, n_jobs=6, refit='neg_mean_absolute_error')"
   ]
  },
  {
   "cell_type": "code",
   "execution_count": 98,
   "metadata": {},
   "outputs": [
    {
     "name": "stdout",
     "output_type": "stream",
     "text": [
      "time:  903.3776962496559\n"
     ]
    }
   ],
   "source": [
    "# Fit the model\n",
    "\n",
    "### WARNING ###\n",
    "## This takes like 15 minutes ##\n",
    "\n",
    "start = timeit.default_timer()\n",
    "forest_search.fit(var, target)\n",
    "stop = timeit.default_timer()\n",
    "\n",
    "print('time: ', stop-start)"
   ]
  },
  {
   "cell_type": "code",
   "execution_count": 99,
   "metadata": {},
   "outputs": [
    {
     "name": "stderr",
     "output_type": "stream",
     "text": [
      "C:\\Users\\johnb\\Anaconda3\\lib\\site-packages\\sklearn\\utils\\deprecation.py:125: FutureWarning: You are accessing a training score ('split0_train_neg_mean_absolute_error'), which will not be available by default any more in 0.21. If you need training scores, please set return_train_score=True\n",
      "  warnings.warn(*warn_args, **warn_kwargs)\n",
      "C:\\Users\\johnb\\Anaconda3\\lib\\site-packages\\sklearn\\utils\\deprecation.py:125: FutureWarning: You are accessing a training score ('split1_train_neg_mean_absolute_error'), which will not be available by default any more in 0.21. If you need training scores, please set return_train_score=True\n",
      "  warnings.warn(*warn_args, **warn_kwargs)\n",
      "C:\\Users\\johnb\\Anaconda3\\lib\\site-packages\\sklearn\\utils\\deprecation.py:125: FutureWarning: You are accessing a training score ('split2_train_neg_mean_absolute_error'), which will not be available by default any more in 0.21. If you need training scores, please set return_train_score=True\n",
      "  warnings.warn(*warn_args, **warn_kwargs)\n",
      "C:\\Users\\johnb\\Anaconda3\\lib\\site-packages\\sklearn\\utils\\deprecation.py:125: FutureWarning: You are accessing a training score ('split3_train_neg_mean_absolute_error'), which will not be available by default any more in 0.21. If you need training scores, please set return_train_score=True\n",
      "  warnings.warn(*warn_args, **warn_kwargs)\n",
      "C:\\Users\\johnb\\Anaconda3\\lib\\site-packages\\sklearn\\utils\\deprecation.py:125: FutureWarning: You are accessing a training score ('split4_train_neg_mean_absolute_error'), which will not be available by default any more in 0.21. If you need training scores, please set return_train_score=True\n",
      "  warnings.warn(*warn_args, **warn_kwargs)\n",
      "C:\\Users\\johnb\\Anaconda3\\lib\\site-packages\\sklearn\\utils\\deprecation.py:125: FutureWarning: You are accessing a training score ('mean_train_neg_mean_absolute_error'), which will not be available by default any more in 0.21. If you need training scores, please set return_train_score=True\n",
      "  warnings.warn(*warn_args, **warn_kwargs)\n",
      "C:\\Users\\johnb\\Anaconda3\\lib\\site-packages\\sklearn\\utils\\deprecation.py:125: FutureWarning: You are accessing a training score ('std_train_neg_mean_absolute_error'), which will not be available by default any more in 0.21. If you need training scores, please set return_train_score=True\n",
      "  warnings.warn(*warn_args, **warn_kwargs)\n",
      "C:\\Users\\johnb\\Anaconda3\\lib\\site-packages\\sklearn\\utils\\deprecation.py:125: FutureWarning: You are accessing a training score ('split0_train_neg_mean_squared_error'), which will not be available by default any more in 0.21. If you need training scores, please set return_train_score=True\n",
      "  warnings.warn(*warn_args, **warn_kwargs)\n",
      "C:\\Users\\johnb\\Anaconda3\\lib\\site-packages\\sklearn\\utils\\deprecation.py:125: FutureWarning: You are accessing a training score ('split1_train_neg_mean_squared_error'), which will not be available by default any more in 0.21. If you need training scores, please set return_train_score=True\n",
      "  warnings.warn(*warn_args, **warn_kwargs)\n",
      "C:\\Users\\johnb\\Anaconda3\\lib\\site-packages\\sklearn\\utils\\deprecation.py:125: FutureWarning: You are accessing a training score ('split2_train_neg_mean_squared_error'), which will not be available by default any more in 0.21. If you need training scores, please set return_train_score=True\n",
      "  warnings.warn(*warn_args, **warn_kwargs)\n",
      "C:\\Users\\johnb\\Anaconda3\\lib\\site-packages\\sklearn\\utils\\deprecation.py:125: FutureWarning: You are accessing a training score ('split3_train_neg_mean_squared_error'), which will not be available by default any more in 0.21. If you need training scores, please set return_train_score=True\n",
      "  warnings.warn(*warn_args, **warn_kwargs)\n",
      "C:\\Users\\johnb\\Anaconda3\\lib\\site-packages\\sklearn\\utils\\deprecation.py:125: FutureWarning: You are accessing a training score ('split4_train_neg_mean_squared_error'), which will not be available by default any more in 0.21. If you need training scores, please set return_train_score=True\n",
      "  warnings.warn(*warn_args, **warn_kwargs)\n",
      "C:\\Users\\johnb\\Anaconda3\\lib\\site-packages\\sklearn\\utils\\deprecation.py:125: FutureWarning: You are accessing a training score ('mean_train_neg_mean_squared_error'), which will not be available by default any more in 0.21. If you need training scores, please set return_train_score=True\n",
      "  warnings.warn(*warn_args, **warn_kwargs)\n",
      "C:\\Users\\johnb\\Anaconda3\\lib\\site-packages\\sklearn\\utils\\deprecation.py:125: FutureWarning: You are accessing a training score ('std_train_neg_mean_squared_error'), which will not be available by default any more in 0.21. If you need training scores, please set return_train_score=True\n",
      "  warnings.warn(*warn_args, **warn_kwargs)\n"
     ]
    }
   ],
   "source": [
    "rand_df = pd.DataFrame(forest_search.cv_results_)"
   ]
  },
  {
   "cell_type": "code",
   "execution_count": 102,
   "metadata": {},
   "outputs": [
    {
     "data": {
      "text/plain": [
       "-0.009982061413150611"
      ]
     },
     "execution_count": 102,
     "metadata": {},
     "output_type": "execute_result"
    }
   ],
   "source": [
    "# Get the best score\n",
    "base_score - (-1 * rand_df['mean_test_neg_mean_absolute_error'].max())"
   ]
  },
  {
   "cell_type": "code",
   "execution_count": 104,
   "metadata": {},
   "outputs": [
    {
     "data": {
      "text/html": [
       "<div>\n",
       "<style scoped>\n",
       "    .dataframe tbody tr th:only-of-type {\n",
       "        vertical-align: middle;\n",
       "    }\n",
       "\n",
       "    .dataframe tbody tr th {\n",
       "        vertical-align: top;\n",
       "    }\n",
       "\n",
       "    .dataframe thead th {\n",
       "        text-align: right;\n",
       "    }\n",
       "</style>\n",
       "<table border=\"1\" class=\"dataframe\">\n",
       "  <thead>\n",
       "    <tr style=\"text-align: right;\">\n",
       "      <th></th>\n",
       "      <th>mean_fit_time</th>\n",
       "      <th>std_fit_time</th>\n",
       "      <th>mean_score_time</th>\n",
       "      <th>std_score_time</th>\n",
       "      <th>param_max_features</th>\n",
       "      <th>param_n_estimators</th>\n",
       "      <th>params</th>\n",
       "      <th>split0_test_neg_mean_absolute_error</th>\n",
       "      <th>split1_test_neg_mean_absolute_error</th>\n",
       "      <th>split2_test_neg_mean_absolute_error</th>\n",
       "      <th>...</th>\n",
       "      <th>mean_test_neg_mean_squared_error</th>\n",
       "      <th>std_test_neg_mean_squared_error</th>\n",
       "      <th>rank_test_neg_mean_squared_error</th>\n",
       "      <th>split0_train_neg_mean_squared_error</th>\n",
       "      <th>split1_train_neg_mean_squared_error</th>\n",
       "      <th>split2_train_neg_mean_squared_error</th>\n",
       "      <th>split3_train_neg_mean_squared_error</th>\n",
       "      <th>split4_train_neg_mean_squared_error</th>\n",
       "      <th>mean_train_neg_mean_squared_error</th>\n",
       "      <th>std_train_neg_mean_squared_error</th>\n",
       "    </tr>\n",
       "  </thead>\n",
       "  <tbody>\n",
       "    <tr>\n",
       "      <th>5</th>\n",
       "      <td>53.939423</td>\n",
       "      <td>1.07597</td>\n",
       "      <td>5.885934</td>\n",
       "      <td>0.261703</td>\n",
       "      <td>log2</td>\n",
       "      <td>1000</td>\n",
       "      <td>{'max_features': 'log2', 'n_estimators': 1000}</td>\n",
       "      <td>-0.980622</td>\n",
       "      <td>-0.967729</td>\n",
       "      <td>-0.952132</td>\n",
       "      <td>...</td>\n",
       "      <td>-2.067634</td>\n",
       "      <td>0.119914</td>\n",
       "      <td>1</td>\n",
       "      <td>-0.276363</td>\n",
       "      <td>-0.277391</td>\n",
       "      <td>-0.287194</td>\n",
       "      <td>-0.277478</td>\n",
       "      <td>-0.287935</td>\n",
       "      <td>-0.281272</td>\n",
       "      <td>0.005158</td>\n",
       "    </tr>\n",
       "  </tbody>\n",
       "</table>\n",
       "<p>1 rows × 37 columns</p>\n",
       "</div>"
      ],
      "text/plain": [
       "   mean_fit_time  std_fit_time  mean_score_time  std_score_time  \\\n",
       "5      53.939423       1.07597         5.885934        0.261703   \n",
       "\n",
       "  param_max_features param_n_estimators  \\\n",
       "5               log2               1000   \n",
       "\n",
       "                                           params  \\\n",
       "5  {'max_features': 'log2', 'n_estimators': 1000}   \n",
       "\n",
       "   split0_test_neg_mean_absolute_error  split1_test_neg_mean_absolute_error  \\\n",
       "5                            -0.980622                            -0.967729   \n",
       "\n",
       "   split2_test_neg_mean_absolute_error                ...                 \\\n",
       "5                            -0.952132                ...                  \n",
       "\n",
       "   mean_test_neg_mean_squared_error  std_test_neg_mean_squared_error  \\\n",
       "5                         -2.067634                         0.119914   \n",
       "\n",
       "   rank_test_neg_mean_squared_error  split0_train_neg_mean_squared_error  \\\n",
       "5                                 1                            -0.276363   \n",
       "\n",
       "   split1_train_neg_mean_squared_error  split2_train_neg_mean_squared_error  \\\n",
       "5                            -0.277391                            -0.287194   \n",
       "\n",
       "   split3_train_neg_mean_squared_error  split4_train_neg_mean_squared_error  \\\n",
       "5                            -0.277478                            -0.287935   \n",
       "\n",
       "   mean_train_neg_mean_squared_error  std_train_neg_mean_squared_error  \n",
       "5                          -0.281272                          0.005158  \n",
       "\n",
       "[1 rows x 37 columns]"
      ]
     },
     "execution_count": 104,
     "metadata": {},
     "output_type": "execute_result"
    }
   ],
   "source": [
    "rand_df[rand_df['mean_test_neg_mean_absolute_error'] == rand_df['mean_test_neg_mean_absolute_error'].max()]"
   ]
  },
  {
   "cell_type": "markdown",
   "metadata": {},
   "source": [
    "#### Feature Engineering with FeatureTools"
   ]
  },
  {
   "cell_type": "code",
   "execution_count": 18,
   "metadata": {},
   "outputs": [],
   "source": [
    "import featuretools as ft"
   ]
  },
  {
   "cell_type": "code",
   "execution_count": 28,
   "metadata": {},
   "outputs": [],
   "source": [
    "# Set up the entities\n",
    "es = ft.EntitySet(id='data')\n",
    "es = es.entity_from_dataframe(entity_id='data',\n",
    "                             dataframe=var, \n",
    "                              index='index',\n",
    "                             make_index=True)"
   ]
  },
  {
   "cell_type": "code",
   "execution_count": 111,
   "metadata": {},
   "outputs": [
    {
     "data": {
      "text/plain": [
       "[<Variable: index (dtype = index)>,\n",
       " <Variable: num1 (dtype = numeric)>,\n",
       " <Variable: num2 (dtype = numeric)>,\n",
       " <Variable: num3 (dtype = numeric)>,\n",
       " <Variable: num4 (dtype = numeric)>,\n",
       " <Variable: num5 (dtype = numeric)>,\n",
       " <Variable: num6 (dtype = numeric)>,\n",
       " <Variable: num7 (dtype = numeric)>,\n",
       " <Variable: num8 (dtype = numeric)>,\n",
       " <Variable: num9 (dtype = numeric)>,\n",
       " <Variable: num10 (dtype = numeric)>,\n",
       " <Variable: num11 (dtype = numeric)>,\n",
       " <Variable: num12 (dtype = numeric)>,\n",
       " <Variable: num13 (dtype = numeric)>,\n",
       " <Variable: num14 (dtype = numeric)>,\n",
       " <Variable: num15 (dtype = numeric)>,\n",
       " <Variable: num16 (dtype = numeric)>,\n",
       " <Variable: num17 (dtype = numeric)>,\n",
       " <Variable: num18 (dtype = numeric)>,\n",
       " <Variable: num19 (dtype = numeric)>,\n",
       " <Variable: num20 (dtype = numeric)>,\n",
       " <Variable: num21 (dtype = numeric)>,\n",
       " <Variable: num22 (dtype = numeric)>,\n",
       " <Variable: num23 (dtype = numeric)>,\n",
       " <Variable: num24 (dtype = numeric)>,\n",
       " <Variable: num25 (dtype = numeric)>,\n",
       " <Variable: num26 (dtype = numeric)>,\n",
       " <Variable: num27 (dtype = numeric)>,\n",
       " <Variable: num28 (dtype = numeric)>,\n",
       " <Variable: num29 (dtype = numeric)>,\n",
       " <Variable: num30 (dtype = numeric)>,\n",
       " <Variable: num31 (dtype = numeric)>,\n",
       " <Variable: num32 (dtype = numeric)>,\n",
       " <Variable: num33 (dtype = numeric)>,\n",
       " <Variable: num34 (dtype = numeric)>,\n",
       " <Variable: num35 (dtype = numeric)>,\n",
       " <Variable: num36 (dtype = numeric)>,\n",
       " <Variable: num37 (dtype = numeric)>,\n",
       " <Variable: num38 (dtype = numeric)>,\n",
       " <Variable: num39 (dtype = numeric)>,\n",
       " <Variable: num40 (dtype = numeric)>,\n",
       " <Variable: num41 (dtype = numeric)>,\n",
       " <Variable: num42 (dtype = numeric)>,\n",
       " <Variable: num43 (dtype = numeric)>,\n",
       " <Variable: num44 (dtype = numeric)>,\n",
       " <Variable: num45 (dtype = numeric)>,\n",
       " <Variable: num46 (dtype = numeric)>,\n",
       " <Variable: num47 (dtype = numeric)>,\n",
       " <Variable: num48 (dtype = numeric)>,\n",
       " <Variable: num49 (dtype = numeric)>,\n",
       " <Variable: num50 (dtype = numeric)>,\n",
       " <Variable: num51 (dtype = numeric)>,\n",
       " <Variable: num52 (dtype = numeric)>,\n",
       " <Variable: num53 (dtype = numeric)>,\n",
       " <Variable: num54 (dtype = numeric)>,\n",
       " <Variable: num55 (dtype = numeric)>,\n",
       " <Variable: num56 (dtype = numeric)>,\n",
       " <Variable: num57 (dtype = numeric)>,\n",
       " <Variable: num58 (dtype = numeric)>,\n",
       " <Variable: num59 (dtype = numeric)>,\n",
       " <Variable: cat3 (dtype = boolean)>,\n",
       " <Variable: cat4 (dtype = boolean)>,\n",
       " <Variable: cat5 (dtype = boolean)>,\n",
       " <Variable: cat6 (dtype = boolean)>,\n",
       " <Variable: cat7 (dtype = boolean)>,\n",
       " <Variable: cat8 (dtype = boolean)>,\n",
       " <Variable: cat9 (dtype = boolean)>,\n",
       " <Variable: cat10 (dtype = boolean)>,\n",
       " <Variable: cat11 (dtype = boolean)>,\n",
       " <Variable: cat12 (dtype = boolean)>,\n",
       " <Variable: cat13 (dtype = boolean)>,\n",
       " <Variable: cat14 (dtype = boolean)>,\n",
       " <Variable: cat15 (dtype = boolean)>,\n",
       " <Variable: cat16 (dtype = boolean)>,\n",
       " <Variable: cat17 (dtype = boolean)>,\n",
       " <Variable: cat18 (dtype = boolean)>,\n",
       " <Variable: cat19 (dtype = boolean)>,\n",
       " <Variable: cat20 (dtype = boolean)>,\n",
       " <Variable: cat21 (dtype = boolean)>,\n",
       " <Variable: cat22 (dtype = boolean)>,\n",
       " <Variable: cat23 (dtype = boolean)>,\n",
       " <Variable: cat24 (dtype = boolean)>,\n",
       " <Variable: cat25 (dtype = boolean)>,\n",
       " <Variable: cat26 (dtype = boolean)>,\n",
       " <Variable: cat1_A (dtype = numeric)>,\n",
       " <Variable: cat1_B (dtype = numeric)>,\n",
       " <Variable: cat1_C (dtype = numeric)>,\n",
       " <Variable: cat1_D (dtype = numeric)>,\n",
       " <Variable: cat1_E (dtype = numeric)>,\n",
       " <Variable: cat2_A (dtype = numeric)>,\n",
       " <Variable: cat2_B (dtype = numeric)>,\n",
       " <Variable: cat2_C (dtype = numeric)>,\n",
       " <Variable: cat2_D (dtype = numeric)>,\n",
       " <Variable: cat2_E (dtype = numeric)>,\n",
       " <Variable: cat2_F (dtype = numeric)>,\n",
       " <Variable: cat2_G (dtype = numeric)>,\n",
       " <Variable: cat2_H (dtype = numeric)>,\n",
       " <Variable: cat2_I (dtype = numeric)>,\n",
       " <Variable: cat2_J (dtype = numeric)>,\n",
       " <Variable: cat2_K (dtype = numeric)>,\n",
       " <Variable: cat2_L (dtype = numeric)>]"
      ]
     },
     "execution_count": 111,
     "metadata": {},
     "output_type": "execute_result"
    }
   ],
   "source": [
    "es['data'].variables"
   ]
  },
  {
   "cell_type": "code",
   "execution_count": 132,
   "metadata": {},
   "outputs": [
    {
     "data": {
      "text/html": [
       "<div>\n",
       "<style scoped>\n",
       "    .dataframe tbody tr th:only-of-type {\n",
       "        vertical-align: middle;\n",
       "    }\n",
       "\n",
       "    .dataframe tbody tr th {\n",
       "        vertical-align: top;\n",
       "    }\n",
       "\n",
       "    .dataframe thead th {\n",
       "        text-align: right;\n",
       "    }\n",
       "</style>\n",
       "<table border=\"1\" class=\"dataframe\">\n",
       "  <thead>\n",
       "    <tr style=\"text-align: right;\">\n",
       "      <th></th>\n",
       "      <th>name</th>\n",
       "      <th>type</th>\n",
       "      <th>description</th>\n",
       "    </tr>\n",
       "  </thead>\n",
       "  <tbody>\n",
       "    <tr>\n",
       "      <th>0</th>\n",
       "      <td>num_true</td>\n",
       "      <td>aggregation</td>\n",
       "      <td>Finds the number of 'True' values in a boolean.</td>\n",
       "    </tr>\n",
       "    <tr>\n",
       "      <th>1</th>\n",
       "      <td>count</td>\n",
       "      <td>aggregation</td>\n",
       "      <td>Counts the number of non null values.</td>\n",
       "    </tr>\n",
       "    <tr>\n",
       "      <th>2</th>\n",
       "      <td>avg_time_between</td>\n",
       "      <td>aggregation</td>\n",
       "      <td>Computes the average time between consecutive ...</td>\n",
       "    </tr>\n",
       "    <tr>\n",
       "      <th>3</th>\n",
       "      <td>time_since_last</td>\n",
       "      <td>aggregation</td>\n",
       "      <td>Time since last related instance.</td>\n",
       "    </tr>\n",
       "    <tr>\n",
       "      <th>4</th>\n",
       "      <td>skew</td>\n",
       "      <td>aggregation</td>\n",
       "      <td>Computes the skewness of a data set.</td>\n",
       "    </tr>\n",
       "    <tr>\n",
       "      <th>5</th>\n",
       "      <td>mode</td>\n",
       "      <td>aggregation</td>\n",
       "      <td>Finds the most common element in a categorical...</td>\n",
       "    </tr>\n",
       "    <tr>\n",
       "      <th>6</th>\n",
       "      <td>mean</td>\n",
       "      <td>aggregation</td>\n",
       "      <td>Computes the average value of a numeric feature.</td>\n",
       "    </tr>\n",
       "    <tr>\n",
       "      <th>7</th>\n",
       "      <td>num_unique</td>\n",
       "      <td>aggregation</td>\n",
       "      <td>Returns the number of unique categorical varia...</td>\n",
       "    </tr>\n",
       "    <tr>\n",
       "      <th>8</th>\n",
       "      <td>max</td>\n",
       "      <td>aggregation</td>\n",
       "      <td>Finds the maximum non-null value of a numeric ...</td>\n",
       "    </tr>\n",
       "    <tr>\n",
       "      <th>9</th>\n",
       "      <td>trend</td>\n",
       "      <td>aggregation</td>\n",
       "      <td>Calculates the slope of the linear trend of va...</td>\n",
       "    </tr>\n",
       "    <tr>\n",
       "      <th>10</th>\n",
       "      <td>sum</td>\n",
       "      <td>aggregation</td>\n",
       "      <td>Sums elements of a numeric or boolean feature.</td>\n",
       "    </tr>\n",
       "    <tr>\n",
       "      <th>11</th>\n",
       "      <td>all</td>\n",
       "      <td>aggregation</td>\n",
       "      <td>Test if all values are 'True'.</td>\n",
       "    </tr>\n",
       "    <tr>\n",
       "      <th>12</th>\n",
       "      <td>last</td>\n",
       "      <td>aggregation</td>\n",
       "      <td>Returns the last value.</td>\n",
       "    </tr>\n",
       "    <tr>\n",
       "      <th>13</th>\n",
       "      <td>percent_true</td>\n",
       "      <td>aggregation</td>\n",
       "      <td>Finds the percent of 'True' values in a boolea...</td>\n",
       "    </tr>\n",
       "    <tr>\n",
       "      <th>14</th>\n",
       "      <td>n_most_common</td>\n",
       "      <td>aggregation</td>\n",
       "      <td>Finds the N most common elements in a categori...</td>\n",
       "    </tr>\n",
       "    <tr>\n",
       "      <th>15</th>\n",
       "      <td>any</td>\n",
       "      <td>aggregation</td>\n",
       "      <td>Test if any value is 'True'.</td>\n",
       "    </tr>\n",
       "    <tr>\n",
       "      <th>16</th>\n",
       "      <td>median</td>\n",
       "      <td>aggregation</td>\n",
       "      <td>Finds the median value of any feature with wel...</td>\n",
       "    </tr>\n",
       "    <tr>\n",
       "      <th>17</th>\n",
       "      <td>min</td>\n",
       "      <td>aggregation</td>\n",
       "      <td>Finds the minimum non-null value of a numeric ...</td>\n",
       "    </tr>\n",
       "    <tr>\n",
       "      <th>18</th>\n",
       "      <td>std</td>\n",
       "      <td>aggregation</td>\n",
       "      <td>Finds the standard deviation of a numeric feat...</td>\n",
       "    </tr>\n",
       "    <tr>\n",
       "      <th>19</th>\n",
       "      <td>latitude</td>\n",
       "      <td>transform</td>\n",
       "      <td>Returns the first value of the tuple base feat...</td>\n",
       "    </tr>\n",
       "    <tr>\n",
       "      <th>20</th>\n",
       "      <td>isin</td>\n",
       "      <td>transform</td>\n",
       "      <td>For each value of the base feature, checks whe...</td>\n",
       "    </tr>\n",
       "    <tr>\n",
       "      <th>21</th>\n",
       "      <td>cum_min</td>\n",
       "      <td>transform</td>\n",
       "      <td>Calculates the min of previous values of an in...</td>\n",
       "    </tr>\n",
       "    <tr>\n",
       "      <th>22</th>\n",
       "      <td>multiply</td>\n",
       "      <td>transform</td>\n",
       "      <td>Creates a transform feature that multplies two...</td>\n",
       "    </tr>\n",
       "    <tr>\n",
       "      <th>23</th>\n",
       "      <td>time_since</td>\n",
       "      <td>transform</td>\n",
       "      <td>Calculates time since the cutoff time.</td>\n",
       "    </tr>\n",
       "    <tr>\n",
       "      <th>24</th>\n",
       "      <td>week</td>\n",
       "      <td>transform</td>\n",
       "      <td>Transform a Datetime feature into the week.</td>\n",
       "    </tr>\n",
       "    <tr>\n",
       "      <th>25</th>\n",
       "      <td>mod</td>\n",
       "      <td>transform</td>\n",
       "      <td>Creates a transform feature that divides two f...</td>\n",
       "    </tr>\n",
       "    <tr>\n",
       "      <th>26</th>\n",
       "      <td>add</td>\n",
       "      <td>transform</td>\n",
       "      <td>Creates a transform feature that adds two feat...</td>\n",
       "    </tr>\n",
       "    <tr>\n",
       "      <th>27</th>\n",
       "      <td>year</td>\n",
       "      <td>transform</td>\n",
       "      <td>Transform a Datetime feature into the year.</td>\n",
       "    </tr>\n",
       "    <tr>\n",
       "      <th>28</th>\n",
       "      <td>absolute</td>\n",
       "      <td>transform</td>\n",
       "      <td>Absolute value of base feature.</td>\n",
       "    </tr>\n",
       "    <tr>\n",
       "      <th>29</th>\n",
       "      <td>cum_sum</td>\n",
       "      <td>transform</td>\n",
       "      <td>Calculates the sum of previous values of an in...</td>\n",
       "    </tr>\n",
       "    <tr>\n",
       "      <th>...</th>\n",
       "      <td>...</td>\n",
       "      <td>...</td>\n",
       "      <td>...</td>\n",
       "    </tr>\n",
       "    <tr>\n",
       "      <th>32</th>\n",
       "      <td>cum_max</td>\n",
       "      <td>transform</td>\n",
       "      <td>Calculates the max of previous values of an in...</td>\n",
       "    </tr>\n",
       "    <tr>\n",
       "      <th>33</th>\n",
       "      <td>longitude</td>\n",
       "      <td>transform</td>\n",
       "      <td>Returns the second value on the tuple base fea...</td>\n",
       "    </tr>\n",
       "    <tr>\n",
       "      <th>34</th>\n",
       "      <td>minutes</td>\n",
       "      <td>transform</td>\n",
       "      <td>Transform a Timedelta feature into the number ...</td>\n",
       "    </tr>\n",
       "    <tr>\n",
       "      <th>35</th>\n",
       "      <td>days</td>\n",
       "      <td>transform</td>\n",
       "      <td>Transform a Timedelta feature into the number ...</td>\n",
       "    </tr>\n",
       "    <tr>\n",
       "      <th>36</th>\n",
       "      <td>not</td>\n",
       "      <td>transform</td>\n",
       "      <td>For each value of the base feature, negates th...</td>\n",
       "    </tr>\n",
       "    <tr>\n",
       "      <th>37</th>\n",
       "      <td>second</td>\n",
       "      <td>transform</td>\n",
       "      <td>Transform a Datetime feature into the second.</td>\n",
       "    </tr>\n",
       "    <tr>\n",
       "      <th>38</th>\n",
       "      <td>divide</td>\n",
       "      <td>transform</td>\n",
       "      <td>Creates a transform feature that divides two f...</td>\n",
       "    </tr>\n",
       "    <tr>\n",
       "      <th>39</th>\n",
       "      <td>weekend</td>\n",
       "      <td>transform</td>\n",
       "      <td>Transform Datetime feature into the boolean of...</td>\n",
       "    </tr>\n",
       "    <tr>\n",
       "      <th>40</th>\n",
       "      <td>hours</td>\n",
       "      <td>transform</td>\n",
       "      <td>Transform a Timedelta feature into the number ...</td>\n",
       "    </tr>\n",
       "    <tr>\n",
       "      <th>41</th>\n",
       "      <td>time_since_previous</td>\n",
       "      <td>transform</td>\n",
       "      <td>Compute the time since the previous instance.</td>\n",
       "    </tr>\n",
       "    <tr>\n",
       "      <th>42</th>\n",
       "      <td>years</td>\n",
       "      <td>transform</td>\n",
       "      <td>Transform a Timedelta feature into the number ...</td>\n",
       "    </tr>\n",
       "    <tr>\n",
       "      <th>43</th>\n",
       "      <td>days_since</td>\n",
       "      <td>transform</td>\n",
       "      <td>For each value of the base feature, compute th...</td>\n",
       "    </tr>\n",
       "    <tr>\n",
       "      <th>44</th>\n",
       "      <td>cum_mean</td>\n",
       "      <td>transform</td>\n",
       "      <td>Calculates the mean of previous values of an i...</td>\n",
       "    </tr>\n",
       "    <tr>\n",
       "      <th>45</th>\n",
       "      <td>and</td>\n",
       "      <td>transform</td>\n",
       "      <td>For two boolean values, determine if both valu...</td>\n",
       "    </tr>\n",
       "    <tr>\n",
       "      <th>46</th>\n",
       "      <td>or</td>\n",
       "      <td>transform</td>\n",
       "      <td>For two boolean values, determine if one value...</td>\n",
       "    </tr>\n",
       "    <tr>\n",
       "      <th>47</th>\n",
       "      <td>subtract</td>\n",
       "      <td>transform</td>\n",
       "      <td>Creates a transform feature that subtracts two...</td>\n",
       "    </tr>\n",
       "    <tr>\n",
       "      <th>48</th>\n",
       "      <td>weeks</td>\n",
       "      <td>transform</td>\n",
       "      <td>Transform a Timedelta feature into the number ...</td>\n",
       "    </tr>\n",
       "    <tr>\n",
       "      <th>49</th>\n",
       "      <td>hour</td>\n",
       "      <td>transform</td>\n",
       "      <td>Transform a Datetime feature into the hour.</td>\n",
       "    </tr>\n",
       "    <tr>\n",
       "      <th>50</th>\n",
       "      <td>minute</td>\n",
       "      <td>transform</td>\n",
       "      <td>Transform a Datetime feature into the minute.</td>\n",
       "    </tr>\n",
       "    <tr>\n",
       "      <th>51</th>\n",
       "      <td>numwords</td>\n",
       "      <td>transform</td>\n",
       "      <td>Returns the words in a given string by countin...</td>\n",
       "    </tr>\n",
       "    <tr>\n",
       "      <th>52</th>\n",
       "      <td>is_null</td>\n",
       "      <td>transform</td>\n",
       "      <td>For each value of base feature, return 'True' ...</td>\n",
       "    </tr>\n",
       "    <tr>\n",
       "      <th>53</th>\n",
       "      <td>negate</td>\n",
       "      <td>transform</td>\n",
       "      <td>Creates a transform feature that negates a fea...</td>\n",
       "    </tr>\n",
       "    <tr>\n",
       "      <th>54</th>\n",
       "      <td>weekday</td>\n",
       "      <td>transform</td>\n",
       "      <td>Transform Datetime feature into the boolean of...</td>\n",
       "    </tr>\n",
       "    <tr>\n",
       "      <th>55</th>\n",
       "      <td>characters</td>\n",
       "      <td>transform</td>\n",
       "      <td>Return the characters in a given string.</td>\n",
       "    </tr>\n",
       "    <tr>\n",
       "      <th>56</th>\n",
       "      <td>percentile</td>\n",
       "      <td>transform</td>\n",
       "      <td>For each value of the base feature, determines...</td>\n",
       "    </tr>\n",
       "    <tr>\n",
       "      <th>57</th>\n",
       "      <td>seconds</td>\n",
       "      <td>transform</td>\n",
       "      <td>Transform a Timedelta feature into the number ...</td>\n",
       "    </tr>\n",
       "    <tr>\n",
       "      <th>58</th>\n",
       "      <td>cum_count</td>\n",
       "      <td>transform</td>\n",
       "      <td>Calculates the number of previous values of an...</td>\n",
       "    </tr>\n",
       "    <tr>\n",
       "      <th>59</th>\n",
       "      <td>months</td>\n",
       "      <td>transform</td>\n",
       "      <td>Transform a Timedelta feature into the number ...</td>\n",
       "    </tr>\n",
       "    <tr>\n",
       "      <th>60</th>\n",
       "      <td>diff</td>\n",
       "      <td>transform</td>\n",
       "      <td>Compute the difference between the value of a ...</td>\n",
       "    </tr>\n",
       "    <tr>\n",
       "      <th>61</th>\n",
       "      <td>day</td>\n",
       "      <td>transform</td>\n",
       "      <td>Transform a Datetime feature into the day.</td>\n",
       "    </tr>\n",
       "  </tbody>\n",
       "</table>\n",
       "<p>62 rows × 3 columns</p>\n",
       "</div>"
      ],
      "text/plain": [
       "                   name         type  \\\n",
       "0              num_true  aggregation   \n",
       "1                 count  aggregation   \n",
       "2      avg_time_between  aggregation   \n",
       "3       time_since_last  aggregation   \n",
       "4                  skew  aggregation   \n",
       "5                  mode  aggregation   \n",
       "6                  mean  aggregation   \n",
       "7            num_unique  aggregation   \n",
       "8                   max  aggregation   \n",
       "9                 trend  aggregation   \n",
       "10                  sum  aggregation   \n",
       "11                  all  aggregation   \n",
       "12                 last  aggregation   \n",
       "13         percent_true  aggregation   \n",
       "14        n_most_common  aggregation   \n",
       "15                  any  aggregation   \n",
       "16               median  aggregation   \n",
       "17                  min  aggregation   \n",
       "18                  std  aggregation   \n",
       "19             latitude    transform   \n",
       "20                 isin    transform   \n",
       "21              cum_min    transform   \n",
       "22             multiply    transform   \n",
       "23           time_since    transform   \n",
       "24                 week    transform   \n",
       "25                  mod    transform   \n",
       "26                  add    transform   \n",
       "27                 year    transform   \n",
       "28             absolute    transform   \n",
       "29              cum_sum    transform   \n",
       "..                  ...          ...   \n",
       "32              cum_max    transform   \n",
       "33            longitude    transform   \n",
       "34              minutes    transform   \n",
       "35                 days    transform   \n",
       "36                  not    transform   \n",
       "37               second    transform   \n",
       "38               divide    transform   \n",
       "39              weekend    transform   \n",
       "40                hours    transform   \n",
       "41  time_since_previous    transform   \n",
       "42                years    transform   \n",
       "43           days_since    transform   \n",
       "44             cum_mean    transform   \n",
       "45                  and    transform   \n",
       "46                   or    transform   \n",
       "47             subtract    transform   \n",
       "48                weeks    transform   \n",
       "49                 hour    transform   \n",
       "50               minute    transform   \n",
       "51             numwords    transform   \n",
       "52              is_null    transform   \n",
       "53               negate    transform   \n",
       "54              weekday    transform   \n",
       "55           characters    transform   \n",
       "56           percentile    transform   \n",
       "57              seconds    transform   \n",
       "58            cum_count    transform   \n",
       "59               months    transform   \n",
       "60                 diff    transform   \n",
       "61                  day    transform   \n",
       "\n",
       "                                          description  \n",
       "0     Finds the number of 'True' values in a boolean.  \n",
       "1               Counts the number of non null values.  \n",
       "2   Computes the average time between consecutive ...  \n",
       "3                   Time since last related instance.  \n",
       "4                Computes the skewness of a data set.  \n",
       "5   Finds the most common element in a categorical...  \n",
       "6    Computes the average value of a numeric feature.  \n",
       "7   Returns the number of unique categorical varia...  \n",
       "8   Finds the maximum non-null value of a numeric ...  \n",
       "9   Calculates the slope of the linear trend of va...  \n",
       "10     Sums elements of a numeric or boolean feature.  \n",
       "11                     Test if all values are 'True'.  \n",
       "12                            Returns the last value.  \n",
       "13  Finds the percent of 'True' values in a boolea...  \n",
       "14  Finds the N most common elements in a categori...  \n",
       "15                       Test if any value is 'True'.  \n",
       "16  Finds the median value of any feature with wel...  \n",
       "17  Finds the minimum non-null value of a numeric ...  \n",
       "18  Finds the standard deviation of a numeric feat...  \n",
       "19  Returns the first value of the tuple base feat...  \n",
       "20  For each value of the base feature, checks whe...  \n",
       "21  Calculates the min of previous values of an in...  \n",
       "22  Creates a transform feature that multplies two...  \n",
       "23             Calculates time since the cutoff time.  \n",
       "24        Transform a Datetime feature into the week.  \n",
       "25  Creates a transform feature that divides two f...  \n",
       "26  Creates a transform feature that adds two feat...  \n",
       "27        Transform a Datetime feature into the year.  \n",
       "28                    Absolute value of base feature.  \n",
       "29  Calculates the sum of previous values of an in...  \n",
       "..                                                ...  \n",
       "32  Calculates the max of previous values of an in...  \n",
       "33  Returns the second value on the tuple base fea...  \n",
       "34  Transform a Timedelta feature into the number ...  \n",
       "35  Transform a Timedelta feature into the number ...  \n",
       "36  For each value of the base feature, negates th...  \n",
       "37      Transform a Datetime feature into the second.  \n",
       "38  Creates a transform feature that divides two f...  \n",
       "39  Transform Datetime feature into the boolean of...  \n",
       "40  Transform a Timedelta feature into the number ...  \n",
       "41      Compute the time since the previous instance.  \n",
       "42  Transform a Timedelta feature into the number ...  \n",
       "43  For each value of the base feature, compute th...  \n",
       "44  Calculates the mean of previous values of an i...  \n",
       "45  For two boolean values, determine if both valu...  \n",
       "46  For two boolean values, determine if one value...  \n",
       "47  Creates a transform feature that subtracts two...  \n",
       "48  Transform a Timedelta feature into the number ...  \n",
       "49        Transform a Datetime feature into the hour.  \n",
       "50      Transform a Datetime feature into the minute.  \n",
       "51  Returns the words in a given string by countin...  \n",
       "52  For each value of base feature, return 'True' ...  \n",
       "53  Creates a transform feature that negates a fea...  \n",
       "54  Transform Datetime feature into the boolean of...  \n",
       "55           Return the characters in a given string.  \n",
       "56  For each value of the base feature, determines...  \n",
       "57  Transform a Timedelta feature into the number ...  \n",
       "58  Calculates the number of previous values of an...  \n",
       "59  Transform a Timedelta feature into the number ...  \n",
       "60  Compute the difference between the value of a ...  \n",
       "61         Transform a Datetime feature into the day.  \n",
       "\n",
       "[62 rows x 3 columns]"
      ]
     },
     "execution_count": 132,
     "metadata": {},
     "output_type": "execute_result"
    }
   ],
   "source": [
    "ft.list_primitives()"
   ]
  },
  {
   "cell_type": "code",
   "execution_count": 29,
   "metadata": {},
   "outputs": [
    {
     "name": "stdout",
     "output_type": "stream",
     "text": [
      "EntitySet scattered to workers in 7.236 seconds\n"
     ]
    },
    {
     "name": "stderr",
     "output_type": "stream",
     "text": [
      "tornado.application - ERROR - Exception in Future <Future cancelled> after timeout\n",
      "Traceback (most recent call last):\n",
      "  File \"C:\\Users\\johnb\\Anaconda3\\lib\\site-packages\\tornado\\gen.py\", line 970, in error_callback\n",
      "    future.result()\n",
      "concurrent.futures._base.CancelledError\n",
      "distributed.comm.tcp - WARNING - Closing dangling stream in <TCP local=tcp://127.0.0.1:60886 remote=tcp://127.0.0.1:60819>\n",
      "distributed.comm.tcp - WARNING - Closing dangling stream in <TCP local=tcp://127.0.0.1:60936 remote=tcp://127.0.0.1:60819>\n"
     ]
    }
   ],
   "source": [
    "# Create the features using transformation primitives\n",
    "feature_matrix, feature_defs = ft.dfs(entityset=es,\n",
    "                                     target_entity='data',\n",
    "                                     trans_primitives=['multiply','add',\n",
    "                                                      'subtract'],\n",
    "                                     n_jobs=6,\n",
    "                                     max_depth=1)"
   ]
  },
  {
   "cell_type": "code",
   "execution_count": 47,
   "metadata": {},
   "outputs": [
    {
     "data": {
      "text/plain": [
       "11500"
      ]
     },
     "execution_count": 47,
     "metadata": {},
     "output_type": "execute_result"
    }
   ],
   "source": [
    "len(feature_defs)"
   ]
  },
  {
   "cell_type": "code",
   "execution_count": 48,
   "metadata": {},
   "outputs": [
    {
     "data": {
      "text/html": [
       "<div>\n",
       "<style scoped>\n",
       "    .dataframe tbody tr th:only-of-type {\n",
       "        vertical-align: middle;\n",
       "    }\n",
       "\n",
       "    .dataframe tbody tr th {\n",
       "        vertical-align: top;\n",
       "    }\n",
       "\n",
       "    .dataframe thead th {\n",
       "        text-align: right;\n",
       "    }\n",
       "</style>\n",
       "<table border=\"1\" class=\"dataframe\">\n",
       "  <thead>\n",
       "    <tr style=\"text-align: right;\">\n",
       "      <th></th>\n",
       "      <th>num1</th>\n",
       "      <th>num2</th>\n",
       "      <th>num3</th>\n",
       "      <th>num4</th>\n",
       "      <th>num5</th>\n",
       "      <th>num6</th>\n",
       "      <th>num7</th>\n",
       "      <th>num8</th>\n",
       "      <th>num9</th>\n",
       "      <th>num10</th>\n",
       "      <th>...</th>\n",
       "      <th>num22 - num50</th>\n",
       "      <th>num27 - num24</th>\n",
       "      <th>num29 - cat1_C</th>\n",
       "      <th>num21 - num16</th>\n",
       "      <th>cat2_L - num1</th>\n",
       "      <th>num12 - cat2_J</th>\n",
       "      <th>cat2_F - num8</th>\n",
       "      <th>cat1_C - cat2_D</th>\n",
       "      <th>num39 - num53</th>\n",
       "      <th>num6 - num8</th>\n",
       "    </tr>\n",
       "    <tr>\n",
       "      <th>index</th>\n",
       "      <th></th>\n",
       "      <th></th>\n",
       "      <th></th>\n",
       "      <th></th>\n",
       "      <th></th>\n",
       "      <th></th>\n",
       "      <th></th>\n",
       "      <th></th>\n",
       "      <th></th>\n",
       "      <th></th>\n",
       "      <th></th>\n",
       "      <th></th>\n",
       "      <th></th>\n",
       "      <th></th>\n",
       "      <th></th>\n",
       "      <th></th>\n",
       "      <th></th>\n",
       "      <th></th>\n",
       "      <th></th>\n",
       "      <th></th>\n",
       "      <th></th>\n",
       "    </tr>\n",
       "  </thead>\n",
       "  <tbody>\n",
       "    <tr>\n",
       "      <th>0</th>\n",
       "      <td>1424.241</td>\n",
       "      <td>15.70</td>\n",
       "      <td>-1.930008</td>\n",
       "      <td>-0.005399</td>\n",
       "      <td>-0.014426</td>\n",
       "      <td>-0.017944</td>\n",
       "      <td>0.011322</td>\n",
       "      <td>15.22</td>\n",
       "      <td>13.77</td>\n",
       "      <td>13.96</td>\n",
       "      <td>...</td>\n",
       "      <td>115.629465</td>\n",
       "      <td>-8.854600</td>\n",
       "      <td>58.836975</td>\n",
       "      <td>-1.249988</td>\n",
       "      <td>-1424.241</td>\n",
       "      <td>0.031537</td>\n",
       "      <td>-15.22</td>\n",
       "      <td>255</td>\n",
       "      <td>49.605040</td>\n",
       "      <td>-15.237944</td>\n",
       "    </tr>\n",
       "    <tr>\n",
       "      <th>1</th>\n",
       "      <td>983.787</td>\n",
       "      <td>15.59</td>\n",
       "      <td>0.190003</td>\n",
       "      <td>-0.000129</td>\n",
       "      <td>0.002850</td>\n",
       "      <td>0.017414</td>\n",
       "      <td>0.033371</td>\n",
       "      <td>15.15</td>\n",
       "      <td>15.54</td>\n",
       "      <td>16.64</td>\n",
       "      <td>...</td>\n",
       "      <td>-113.504117</td>\n",
       "      <td>-31.733729</td>\n",
       "      <td>61.478762</td>\n",
       "      <td>0.229997</td>\n",
       "      <td>-983.787</td>\n",
       "      <td>0.029043</td>\n",
       "      <td>-15.15</td>\n",
       "      <td>0</td>\n",
       "      <td>27.626613</td>\n",
       "      <td>-15.132586</td>\n",
       "    </tr>\n",
       "    <tr>\n",
       "      <th>2</th>\n",
       "      <td>105.075</td>\n",
       "      <td>16.32</td>\n",
       "      <td>0.809998</td>\n",
       "      <td>0.000752</td>\n",
       "      <td>0.004340</td>\n",
       "      <td>0.025135</td>\n",
       "      <td>0.007954</td>\n",
       "      <td>16.23</td>\n",
       "      <td>16.71</td>\n",
       "      <td>17.44</td>\n",
       "      <td>...</td>\n",
       "      <td>20.019640</td>\n",
       "      <td>-30.229271</td>\n",
       "      <td>48.888235</td>\n",
       "      <td>-0.610004</td>\n",
       "      <td>-105.075</td>\n",
       "      <td>0.005545</td>\n",
       "      <td>-16.23</td>\n",
       "      <td>0</td>\n",
       "      <td>17.826410</td>\n",
       "      <td>-16.204865</td>\n",
       "    </tr>\n",
       "    <tr>\n",
       "      <th>3</th>\n",
       "      <td>356.126</td>\n",
       "      <td>28.29</td>\n",
       "      <td>-1.409996</td>\n",
       "      <td>-0.011557</td>\n",
       "      <td>-0.020185</td>\n",
       "      <td>0.003352</td>\n",
       "      <td>-0.047518</td>\n",
       "      <td>26.66</td>\n",
       "      <td>26.24</td>\n",
       "      <td>28.18</td>\n",
       "      <td>...</td>\n",
       "      <td>57.637477</td>\n",
       "      <td>-38.815950</td>\n",
       "      <td>37.987422</td>\n",
       "      <td>-2.949999</td>\n",
       "      <td>-355.126</td>\n",
       "      <td>0.061140</td>\n",
       "      <td>-26.66</td>\n",
       "      <td>1</td>\n",
       "      <td>28.791835</td>\n",
       "      <td>-26.656648</td>\n",
       "    </tr>\n",
       "    <tr>\n",
       "      <th>4</th>\n",
       "      <td>772.041</td>\n",
       "      <td>11.49</td>\n",
       "      <td>0.079987</td>\n",
       "      <td>0.001576</td>\n",
       "      <td>0.000724</td>\n",
       "      <td>0.025519</td>\n",
       "      <td>0.033136</td>\n",
       "      <td>11.76</td>\n",
       "      <td>11.97</td>\n",
       "      <td>10.74</td>\n",
       "      <td>...</td>\n",
       "      <td>50.890634</td>\n",
       "      <td>-26.785792</td>\n",
       "      <td>77.661471</td>\n",
       "      <td>0.510003</td>\n",
       "      <td>-772.041</td>\n",
       "      <td>-0.022959</td>\n",
       "      <td>-11.76</td>\n",
       "      <td>0</td>\n",
       "      <td>29.890500</td>\n",
       "      <td>-11.734481</td>\n",
       "    </tr>\n",
       "  </tbody>\n",
       "</table>\n",
       "<p>5 rows × 11500 columns</p>\n",
       "</div>"
      ],
      "text/plain": [
       "           num1   num2      num3      num4      num5      num6      num7  \\\n",
       "index                                                                      \n",
       "0      1424.241  15.70 -1.930008 -0.005399 -0.014426 -0.017944  0.011322   \n",
       "1       983.787  15.59  0.190003 -0.000129  0.002850  0.017414  0.033371   \n",
       "2       105.075  16.32  0.809998  0.000752  0.004340  0.025135  0.007954   \n",
       "3       356.126  28.29 -1.409996 -0.011557 -0.020185  0.003352 -0.047518   \n",
       "4       772.041  11.49  0.079987  0.001576  0.000724  0.025519  0.033136   \n",
       "\n",
       "        num8   num9  num10     ...       num22 - num50  num27 - num24  \\\n",
       "index                          ...                                      \n",
       "0      15.22  13.77  13.96     ...          115.629465      -8.854600   \n",
       "1      15.15  15.54  16.64     ...         -113.504117     -31.733729   \n",
       "2      16.23  16.71  17.44     ...           20.019640     -30.229271   \n",
       "3      26.66  26.24  28.18     ...           57.637477     -38.815950   \n",
       "4      11.76  11.97  10.74     ...           50.890634     -26.785792   \n",
       "\n",
       "       num29 - cat1_C  num21 - num16  cat2_L - num1  num12 - cat2_J  \\\n",
       "index                                                                 \n",
       "0           58.836975      -1.249988      -1424.241        0.031537   \n",
       "1           61.478762       0.229997       -983.787        0.029043   \n",
       "2           48.888235      -0.610004       -105.075        0.005545   \n",
       "3           37.987422      -2.949999       -355.126        0.061140   \n",
       "4           77.661471       0.510003       -772.041       -0.022959   \n",
       "\n",
       "       cat2_F - num8  cat1_C - cat2_D  num39 - num53  num6 - num8  \n",
       "index                                                              \n",
       "0             -15.22              255      49.605040   -15.237944  \n",
       "1             -15.15                0      27.626613   -15.132586  \n",
       "2             -16.23                0      17.826410   -16.204865  \n",
       "3             -26.66                1      28.791835   -26.656648  \n",
       "4             -11.76                0      29.890500   -11.734481  \n",
       "\n",
       "[5 rows x 11500 columns]"
      ]
     },
     "execution_count": 48,
     "metadata": {},
     "output_type": "execute_result"
    }
   ],
   "source": [
    "feature_matrix.head()"
   ]
  },
  {
   "cell_type": "code",
   "execution_count": 49,
   "metadata": {},
   "outputs": [
    {
     "name": "stdout",
     "output_type": "stream",
     "text": [
      "time:  752.5145476308046\n"
     ]
    }
   ],
   "source": [
    "# Run a random forest with all the new features\n",
    "\n",
    "### WARNING ###\n",
    "## This also takes a while ##\n",
    "\n",
    "start = timeit.default_timer()\n",
    "eng_forest = RandomForestRegressor(n_estimators=1000, n_jobs=6, max_features='log2', random_state=69)\n",
    "cv_eng_forest = cross_validate(eng_forest, feature_matrix, target, scoring=['neg_mean_absolute_error','neg_mean_squared_error'], return_train_score=True, cv=5)\n",
    "stop = timeit.default_timer()\n",
    "\n",
    "print('time: ',stop-start)"
   ]
  },
  {
   "cell_type": "code",
   "execution_count": 50,
   "metadata": {},
   "outputs": [
    {
     "name": "stdout",
     "output_type": "stream",
     "text": [
      "0.9602879158667785\n",
      "[-0.98092445 -0.97044855 -0.95605318 -0.97716734 -0.96985617]\n",
      "[-2.21397017 -2.14677232 -1.94055349 -2.17917173 -1.91123632]\n"
     ]
    }
   ],
   "source": [
    "#Get the best scores\n",
    "print(base_score)\n",
    "print(cv_eng_forest['test_neg_mean_absolute_error'])\n",
    "print(cv_eng_forest['test_neg_mean_squared_error'])"
   ]
  },
  {
   "cell_type": "markdown",
   "metadata": {},
   "source": [
    "#### XGBoost"
   ]
  },
  {
   "cell_type": "code",
   "execution_count": 19,
   "metadata": {},
   "outputs": [],
   "source": [
    "import xgboost as xg"
   ]
  },
  {
   "cell_type": "code",
   "execution_count": 30,
   "metadata": {},
   "outputs": [],
   "source": [
    "# Split the feature matrix into training and test\n",
    "ft_train, ft_test, lab_train, lab_test = train_test_split(feature_matrix, target, test_size=0.3, random_state=69)"
   ]
  },
  {
   "cell_type": "code",
   "execution_count": 31,
   "metadata": {},
   "outputs": [],
   "source": [
    "# Set up data in proper form for XGBoost\n",
    "dtrain = xg.DMatrix(var_train, label=target_train)\n",
    "dtest = xg.DMatrix(var_test, label=target_test)\n",
    "\n",
    "fttrain = xg.DMatrix(ft_train, label=lab_train)\n",
    "fttest = xg.DMatrix(ft_test, label=lab_test)"
   ]
  },
  {
   "cell_type": "code",
   "execution_count": 35,
   "metadata": {},
   "outputs": [],
   "source": [
    "# Set up the parameters for XGBoost model\n",
    "xg_param = {'max_depth':3,'nthread':6,'silent':1,'objective':'reg:linear'}\n",
    "xg_param['eval_metric'] = 'mae'\n",
    "evallist = [(dtrain, 'train'),(dtest, 'eval')]\n",
    "ftevallist = [(fttrain, 'train'),(fttest,'eval')]"
   ]
  },
  {
   "cell_type": "code",
   "execution_count": 37,
   "metadata": {},
   "outputs": [
    {
     "name": "stdout",
     "output_type": "stream",
     "text": [
      "[0]\ttrain-mae:13.6986\teval-mae:13.5937\n",
      "Multiple eval metrics have been passed: 'eval-mae' will be used for early stopping.\n",
      "\n",
      "Will train until eval-mae hasn't improved in 10 rounds.\n",
      "[1]\ttrain-mae:9.59086\teval-mae:9.4856\n",
      "[2]\ttrain-mae:6.71978\teval-mae:6.61379\n",
      "[3]\ttrain-mae:4.71698\teval-mae:4.61891\n",
      "[4]\ttrain-mae:3.33493\teval-mae:3.24593\n",
      "[5]\ttrain-mae:2.40733\teval-mae:2.34393\n",
      "[6]\ttrain-mae:1.8091\teval-mae:1.77012\n",
      "[7]\ttrain-mae:1.4373\teval-mae:1.42513\n",
      "[8]\ttrain-mae:1.21362\teval-mae:1.22362\n",
      "[9]\ttrain-mae:1.08034\teval-mae:1.10837\n",
      "[10]\ttrain-mae:1.00564\teval-mae:1.04084\n",
      "[11]\ttrain-mae:0.961942\teval-mae:1.00336\n",
      "[12]\ttrain-mae:0.936595\teval-mae:0.983398\n",
      "[13]\ttrain-mae:0.920036\teval-mae:0.976162\n",
      "[14]\ttrain-mae:0.910682\teval-mae:0.971434\n",
      "[15]\ttrain-mae:0.904132\teval-mae:0.969761\n",
      "[16]\ttrain-mae:0.898466\teval-mae:0.972156\n",
      "[17]\ttrain-mae:0.894102\teval-mae:0.969855\n",
      "[18]\ttrain-mae:0.892687\teval-mae:0.969927\n",
      "[19]\ttrain-mae:0.890171\teval-mae:0.970159\n",
      "[20]\ttrain-mae:0.888305\teval-mae:0.970488\n",
      "[21]\ttrain-mae:0.884061\teval-mae:0.971692\n",
      "[22]\ttrain-mae:0.879726\teval-mae:0.973101\n",
      "[23]\ttrain-mae:0.874545\teval-mae:0.973187\n",
      "[24]\ttrain-mae:0.871313\teval-mae:0.973675\n",
      "[25]\ttrain-mae:0.869803\teval-mae:0.973203\n",
      "Stopping. Best iteration:\n",
      "[15]\ttrain-mae:0.904132\teval-mae:0.969761\n",
      "\n"
     ]
    }
   ],
   "source": [
    "# Run model on original variables\n",
    "num_round = 100\n",
    "bst = xg.train(xg_param, dtrain, num_round, evallist, early_stopping_rounds=10)"
   ]
  },
  {
   "cell_type": "code",
   "execution_count": 34,
   "metadata": {},
   "outputs": [
    {
     "name": "stdout",
     "output_type": "stream",
     "text": [
      "[0]\ttrain-mae:13.6989\teval-mae:13.5929\n",
      "Multiple eval metrics have been passed: 'eval-mae' will be used for early stopping.\n",
      "\n",
      "Will train until eval-mae hasn't improved in 10 rounds.\n",
      "[1]\ttrain-mae:9.59066\teval-mae:9.4833\n",
      "[2]\ttrain-mae:6.71582\teval-mae:6.61375\n",
      "[3]\ttrain-mae:4.71308\teval-mae:4.6175\n",
      "[4]\ttrain-mae:3.33203\teval-mae:3.2485\n",
      "[5]\ttrain-mae:2.40287\teval-mae:2.34645\n",
      "[6]\ttrain-mae:1.80759\teval-mae:1.77214\n",
      "[7]\ttrain-mae:1.43494\teval-mae:1.42519\n",
      "[8]\ttrain-mae:1.20912\teval-mae:1.22178\n",
      "[9]\ttrain-mae:1.07773\teval-mae:1.10076\n",
      "[10]\ttrain-mae:1.0039\teval-mae:1.03401\n",
      "[11]\ttrain-mae:0.962453\teval-mae:0.998721\n",
      "[12]\ttrain-mae:0.939167\teval-mae:0.980303\n",
      "[13]\ttrain-mae:0.926497\teval-mae:0.970994\n",
      "[14]\ttrain-mae:0.918274\teval-mae:0.968065\n",
      "[15]\ttrain-mae:0.911569\teval-mae:0.969079\n",
      "[16]\ttrain-mae:0.90788\teval-mae:0.968331\n",
      "[17]\ttrain-mae:0.904295\teval-mae:0.968882\n",
      "[18]\ttrain-mae:0.900551\teval-mae:0.968958\n",
      "[19]\ttrain-mae:0.89863\teval-mae:0.968938\n",
      "[20]\ttrain-mae:0.895318\teval-mae:0.969214\n",
      "[21]\ttrain-mae:0.893214\teval-mae:0.969857\n",
      "[22]\ttrain-mae:0.891112\teval-mae:0.969804\n",
      "[23]\ttrain-mae:0.888222\teval-mae:0.971598\n",
      "[24]\ttrain-mae:0.885841\teval-mae:0.970271\n",
      "Stopping. Best iteration:\n",
      "[14]\ttrain-mae:0.918274\teval-mae:0.968065\n",
      "\n"
     ]
    }
   ],
   "source": [
    "# Run model on all new variables\n",
    "ftbst = xg.train(xg_param, fttrain, num_round, ftevallist, early_stopping_rounds=10)"
   ]
  },
  {
   "cell_type": "code",
   "execution_count": 26,
   "metadata": {},
   "outputs": [],
   "source": [
    "xg_preds = bst.predict(dtest, ntree_limit=bst.best_ntree_limit)"
   ]
  },
  {
   "cell_type": "code",
   "execution_count": 27,
   "metadata": {},
   "outputs": [
    {
     "data": {
      "text/plain": [
       "<matplotlib.axes._subplots.AxesSubplot at 0x1f412f4d780>"
      ]
     },
     "execution_count": 27,
     "metadata": {},
     "output_type": "execute_result"
    },
    {
     "data": {
      "image/png": "[encoded data removed]",
      "text/plain": [
       "<Figure size 432x288 with 1 Axes>"
      ]
     },
     "metadata": {
      "needs_background": "light"
     },
     "output_type": "display_data"
    }
   ],
   "source": [
    "xg.plot_importance(bst);"
   ]
  },
  {
   "cell_type": "code",
   "execution_count": 40,
   "metadata": {},
   "outputs": [
    {
     "data": {
      "text/plain": [
       "<matplotlib.collections.PathCollection at 0x1f41775e0f0>"
      ]
     },
     "execution_count": 40,
     "metadata": {},
     "output_type": "execute_result"
    },
    {
     "data": {
      "image/png": "[encoded data removed]",
      "text/plain": [
       "<Figure size 432x288 with 1 Axes>"
      ]
     },
     "metadata": {
      "needs_background": "light"
     },
     "output_type": "display_data"
    }
   ],
   "source": [
    "plt.scatter(var_train['num3'],target_train)"
   ]
  },
  {
   "cell_type": "markdown",
   "metadata": {},
   "source": [
    "#### Principal Component Regression"
   ]
  },
  {
   "cell_type": "code",
   "execution_count": 21,
   "metadata": {},
   "outputs": [],
   "source": [
    "from sklearn.decomposition import PCA\n",
    "from sklearn.preprocessing import scale"
   ]
  },
  {
   "cell_type": "code",
   "execution_count": null,
   "metadata": {},
   "outputs": [],
   "source": [
    "# Grab just the numeric columns\n",
    "nums = [col for col in df_final.columns if col[0:3] == 'num']\n",
    "num_train = var_train[nums]\n",
    "num_test = var_test[nums]"
   ]
  },
  {
   "cell_type": "code",
   "execution_count": 82,
   "metadata": {},
   "outputs": [
    {
     "name": "stderr",
     "output_type": "stream",
     "text": [
      "C:\\Users\\johnb\\Anaconda3\\lib\\site-packages\\ipykernel_launcher.py:1: DataConversionWarning: Data with input dtype int64, float64 were all converted to float64 by the scale function.\n",
      "  \"\"\"Entry point for launching an IPython kernel.\n"
     ]
    }
   ],
   "source": [
    "# Fit and transform the scaled numeric variables\n",
    "pca = PCA(n_components=20).fit_transform(scale(num_train))"
   ]
  },
  {
   "cell_type": "code",
   "execution_count": 74,
   "metadata": {},
   "outputs": [
    {
     "data": {
      "image/png": "[encoded data removed]",
      "text/plain": [
       "<Figure size 432x288 with 1 Axes>"
      ]
     },
     "metadata": {
      "needs_background": "light"
     },
     "output_type": "display_data"
    }
   ],
   "source": [
    "plt.plot(np.cumsum(pca.explained_variance_ratio_));"
   ]
  },
  {
   "cell_type": "code",
   "execution_count": 89,
   "metadata": {},
   "outputs": [],
   "source": [
    "# Send the components through a linear model\n",
    "pca_reg = linear_model.LinearRegression()\n",
    "pca_score = cross_validate(pca_reg, pca, target_train, scoring=['neg_mean_absolute_error','neg_mean_squared_error'], return_train_score=True, cv=5)\n"
   ]
  },
  {
   "cell_type": "code",
   "execution_count": 90,
   "metadata": {},
   "outputs": [
    {
     "name": "stdout",
     "output_type": "stream",
     "text": [
      "[-1.00581836 -0.97985907 -0.89378028 -0.93595191 -0.97842187]\n",
      "[-2.42612447 -2.15790599 -1.67023449 -1.78273828 -2.01951272]\n"
     ]
    }
   ],
   "source": [
    "print(pca_score['test_neg_mean_absolute_error'])\n",
    "print(pca_score['test_neg_mean_squared_error'])"
   ]
  },
  {
   "cell_type": "markdown",
   "metadata": {},
   "source": [
    "#### Regularized Regression with New Features"
   ]
  },
  {
   "cell_type": "code",
   "execution_count": 43,
   "metadata": {},
   "outputs": [],
   "source": [
    "# Add squared numeric variables\n",
    "for col in var.columns:\n",
    "    if col[0:3] == 'num':\n",
    "        var[col + '_squared'] = (var[col] ** 2)"
   ]
  },
  {
   "cell_type": "code",
   "execution_count": 44,
   "metadata": {},
   "outputs": [],
   "source": [
    "numeric = []\n",
    "cat = []\n",
    "for col in var.columns:\n",
    "    if col[0:3] == 'num':\n",
    "        numeric.append(col)\n",
    "        \n",
    "for col in var.columns:\n",
    "    if col[0:3] == 'cat':\n",
    "        cat.append(col)\n",
    "        \n",
    "num_vars = var[numeric]"
   ]
  },
  {
   "cell_type": "code",
   "execution_count": 45,
   "metadata": {},
   "outputs": [],
   "source": [
    "es_lasso = ft.EntitySet(id='data')\n",
    "es_lasso = es_lasso.entity_from_dataframe(entity_id='data',\n",
    "                             dataframe=num_vars, \n",
    "                              index='index',\n",
    "                             make_index=True)"
   ]
  },
  {
   "cell_type": "code",
   "execution_count": 47,
   "metadata": {},
   "outputs": [
    {
     "name": "stdout",
     "output_type": "stream",
     "text": [
      "EntitySet scattered to workers in 6.462 seconds\n"
     ]
    },
    {
     "name": "stderr",
     "output_type": "stream",
     "text": [
      "tornado.application - ERROR - Exception in Future <Future cancelled> after timeout\n",
      "Traceback (most recent call last):\n",
      "  File \"C:\\Users\\johnb\\Anaconda3\\lib\\site-packages\\tornado\\gen.py\", line 970, in error_callback\n",
      "    future.result()\n",
      "concurrent.futures._base.CancelledError\n"
     ]
    }
   ],
   "source": [
    "feature_matrix_lasso, feature_defs_lasso = ft.dfs(entityset=es_lasso,\n",
    "                                     target_entity='data',\n",
    "                                     trans_primitives=['multiply'],\n",
    "                                     n_jobs=6,\n",
    "                                     max_depth=1)"
   ]
  },
  {
   "cell_type": "code",
   "execution_count": 48,
   "metadata": {},
   "outputs": [
    {
     "data": {
      "text/plain": [
       "7021"
      ]
     },
     "execution_count": 48,
     "metadata": {},
     "output_type": "execute_result"
    }
   ],
   "source": [
    "len(feature_defs_lasso)"
   ]
  },
  {
   "cell_type": "code",
   "execution_count": 55,
   "metadata": {},
   "outputs": [
    {
     "name": "stderr",
     "output_type": "stream",
     "text": [
      "C:\\Users\\johnb\\Anaconda3\\lib\\site-packages\\sklearn\\preprocessing\\data.py:617: DataConversionWarning: Data with input dtype int64, float64 were all converted to float64 by StandardScaler.\n",
      "  return self.partial_fit(X, y)\n",
      "C:\\Users\\johnb\\Anaconda3\\lib\\site-packages\\sklearn\\base.py:462: DataConversionWarning: Data with input dtype int64, float64 were all converted to float64 by StandardScaler.\n",
      "  return self.fit(X, **fit_params).transform(X)\n"
     ]
    },
    {
     "ename": "IndexError",
     "evalue": "only integers, slices (`:`), ellipsis (`...`), numpy.newaxis (`None`) and integer or boolean arrays are valid indices",
     "output_type": "error",
     "traceback": [
      "\u001b[1;31m---------------------------------------------------------------------------\u001b[0m",
      "\u001b[1;31mIndexError\u001b[0m                                Traceback (most recent call last)",
      "\u001b[1;32m<ipython-input-55-4afa71c2f758>\u001b[0m in \u001b[0;36m<module>\u001b[1;34m\u001b[0m\n\u001b[0;32m      1\u001b[0m \u001b[1;32mfrom\u001b[0m \u001b[0msklearn\u001b[0m\u001b[1;33m.\u001b[0m\u001b[0mpreprocessing\u001b[0m \u001b[1;32mimport\u001b[0m \u001b[0mStandardScaler\u001b[0m\u001b[1;33m\u001b[0m\u001b[0m\n\u001b[0;32m      2\u001b[0m \u001b[0mscaler\u001b[0m \u001b[1;33m=\u001b[0m \u001b[0mStandardScaler\u001b[0m\u001b[1;33m(\u001b[0m\u001b[1;33m)\u001b[0m\u001b[1;33m\u001b[0m\u001b[0m\n\u001b[1;32m----> 3\u001b[1;33m \u001b[0mlasso_nums\u001b[0m\u001b[1;33m[\u001b[0m\u001b[0mfeature_defs_lasso\u001b[0m\u001b[1;33m]\u001b[0m \u001b[1;33m=\u001b[0m \u001b[0mscaler\u001b[0m\u001b[1;33m.\u001b[0m\u001b[0mfit_transform\u001b[0m\u001b[1;33m(\u001b[0m\u001b[0mfeature_matrix_lasso\u001b[0m\u001b[1;33m)\u001b[0m\u001b[1;33m\u001b[0m\u001b[0m\n\u001b[0m",
      "\u001b[1;31mIndexError\u001b[0m: only integers, slices (`:`), ellipsis (`...`), numpy.newaxis (`None`) and integer or boolean arrays are valid indices"
     ]
    }
   ],
   "source": [
    "from sklearn.preprocessing import StandardScaler\n",
    "scaler = StandardScaler()\n",
    "lasso_nums = scaler.fit_transform(feature_matrix_lasso)"
   ]
  },
  {
   "cell_type": "code",
   "execution_count": 54,
   "metadata": {},
   "outputs": [
    {
     "data": {
      "text/plain": [
       "array([[ 0.57430188, -0.45754513, -1.42642275, ...,  0.1183184 ,\n",
       "         2.48428501, -0.2616774 ],\n",
       "       [ 0.13390894, -0.47105767,  0.11211609, ...,  0.4532585 ,\n",
       "         0.32284431, -0.09643562],\n",
       "       [-0.74468123, -0.38138356,  0.56206017, ...,  0.31453153,\n",
       "        -0.64806729, -0.46110757],\n",
       "       ...,\n",
       "       [ 0.17049687, -0.33470389, -0.67892971, ..., -0.56402026,\n",
       "        -0.1904534 ,  2.83987064],\n",
       "       [-0.79592613, -0.53862035,  0.14433743, ...,  0.19951334,\n",
       "        -0.65301772, -0.4615196 ],\n",
       "       [ 1.75663394,  2.40711265,  0.67092429, ..., -0.18068722,\n",
       "         0.06158605, -0.2666215 ]])"
      ]
     },
     "execution_count": 54,
     "metadata": {},
     "output_type": "execute_result"
    }
   ],
   "source": [
    "lasso_nums"
   ]
  },
  {
   "cell_type": "code",
   "execution_count": 52,
   "metadata": {},
   "outputs": [
    {
     "data": {
      "text/plain": [
       "array([[ 0.57430188, -0.45754513, -1.42642275, ..., -0.18321983,\n",
       "         0.17433701,  1.67855846],\n",
       "       [ 0.13390894, -0.47105767,  0.11211609, ..., -0.19771363,\n",
       "        -0.3025507 , -0.0431972 ],\n",
       "       [-0.74468123, -0.38138356,  0.56206017, ..., -0.43168647,\n",
       "        -0.32877641, -0.51846052],\n",
       "       ...,\n",
       "       [ 0.17049687, -0.33470389, -0.67892971, ...,  1.66265387,\n",
       "        -0.23544807,  1.5543326 ],\n",
       "       [-0.79592613, -0.53862035,  0.14433743, ..., -0.43647586,\n",
       "        -0.26994034, -1.11805176],\n",
       "       [ 1.75663394,  2.40711265,  0.67092429, ..., -0.26343793,\n",
       "         0.71330336,  0.680163  ]])"
      ]
     },
     "execution_count": 52,
     "metadata": {},
     "output_type": "execute_result"
    }
   ],
   "source": []
  },
  {
   "cell_type": "code",
   "execution_count": null,
   "metadata": {},
   "outputs": [],
   "source": [
    "feature_train, feature_test, y_train, y_test = train_test_split(features, target, test_size=0.3, random_state=69)"
   ]
  },
  {
   "cell_type": "code",
   "execution_count": null,
   "metadata": {},
   "outputs": [],
   "source": [
    "lasso_ft = linear_model.Lasso()\n",
    "ridge_ft = linear_model.Ridge()"
   ]
  },
  {
   "cell_type": "code",
   "execution_count": null,
   "metadata": {},
   "outputs": [],
   "source": []
  }
 ],
 "metadata": {
  "kernelspec": {
   "display_name": "Python 3",
   "language": "python",
   "name": "python3"
  },
  "language_info": {
   "codemirror_mode": {
    "name": "ipython",
    "version": 3
   },
   "file_extension": ".py",
   "mimetype": "text/x-python",
   "name": "python",
   "nbconvert_exporter": "python",
   "pygments_lexer": "ipython3",
   "version": "3.6.6"
  }
 },
 "nbformat": 4,
 "nbformat_minor": 2
}
