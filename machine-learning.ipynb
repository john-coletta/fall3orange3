{
 "cells": [
  {
   "cell_type": "code",
   "execution_count": 56,
   "metadata": {},
   "outputs": [],
   "source": [
    "import pandas as pd\n",
    "import timeit"
   ]
  },
  {
   "cell_type": "code",
   "execution_count": 3,
   "metadata": {},
   "outputs": [],
   "source": [
    "df = pd.read_csv('C:\\\\Users\\\\johnb\\\\OneDrive\\\\Documents\\\\MSA\\\\Fall 3\\\\Machine Learning\\\\MLProjectData.csv')"
   ]
  },
  {
   "cell_type": "code",
   "execution_count": 4,
   "metadata": {},
   "outputs": [
    {
     "data": {
      "text/html": [
       "<div>\n",
       "<style scoped>\n",
       "    .dataframe tbody tr th:only-of-type {\n",
       "        vertical-align: middle;\n",
       "    }\n",
       "\n",
       "    .dataframe tbody tr th {\n",
       "        vertical-align: top;\n",
       "    }\n",
       "\n",
       "    .dataframe thead th {\n",
       "        text-align: right;\n",
       "    }\n",
       "</style>\n",
       "<table border=\"1\" class=\"dataframe\">\n",
       "  <thead>\n",
       "    <tr style=\"text-align: right;\">\n",
       "      <th></th>\n",
       "      <th>num1</th>\n",
       "      <th>num2</th>\n",
       "      <th>num3</th>\n",
       "      <th>num4</th>\n",
       "      <th>num5</th>\n",
       "      <th>num6</th>\n",
       "      <th>num7</th>\n",
       "      <th>num8</th>\n",
       "      <th>num9</th>\n",
       "      <th>num10</th>\n",
       "      <th>...</th>\n",
       "      <th>cat18</th>\n",
       "      <th>cat19</th>\n",
       "      <th>cat20</th>\n",
       "      <th>cat21</th>\n",
       "      <th>cat22</th>\n",
       "      <th>cat23</th>\n",
       "      <th>cat24</th>\n",
       "      <th>cat25</th>\n",
       "      <th>cat26</th>\n",
       "      <th>target</th>\n",
       "    </tr>\n",
       "  </thead>\n",
       "  <tbody>\n",
       "    <tr>\n",
       "      <th>0</th>\n",
       "      <td>1424.241</td>\n",
       "      <td>15.70</td>\n",
       "      <td>-1.930008</td>\n",
       "      <td>-0.005399</td>\n",
       "      <td>-0.014426</td>\n",
       "      <td>-0.017944</td>\n",
       "      <td>0.011322</td>\n",
       "      <td>15.22</td>\n",
       "      <td>13.77</td>\n",
       "      <td>13.96</td>\n",
       "      <td>...</td>\n",
       "      <td>False</td>\n",
       "      <td>True</td>\n",
       "      <td>False</td>\n",
       "      <td>False</td>\n",
       "      <td>False</td>\n",
       "      <td>False</td>\n",
       "      <td>False</td>\n",
       "      <td>False</td>\n",
       "      <td>False</td>\n",
       "      <td>21.639999</td>\n",
       "    </tr>\n",
       "    <tr>\n",
       "      <th>1</th>\n",
       "      <td>983.787</td>\n",
       "      <td>15.59</td>\n",
       "      <td>0.190003</td>\n",
       "      <td>-0.000129</td>\n",
       "      <td>0.002850</td>\n",
       "      <td>0.017414</td>\n",
       "      <td>0.033371</td>\n",
       "      <td>15.15</td>\n",
       "      <td>15.54</td>\n",
       "      <td>16.64</td>\n",
       "      <td>...</td>\n",
       "      <td>False</td>\n",
       "      <td>False</td>\n",
       "      <td>False</td>\n",
       "      <td>False</td>\n",
       "      <td>False</td>\n",
       "      <td>False</td>\n",
       "      <td>False</td>\n",
       "      <td>False</td>\n",
       "      <td>False</td>\n",
       "      <td>19.919998</td>\n",
       "    </tr>\n",
       "    <tr>\n",
       "      <th>2</th>\n",
       "      <td>105.075</td>\n",
       "      <td>16.32</td>\n",
       "      <td>0.809998</td>\n",
       "      <td>0.000752</td>\n",
       "      <td>0.004340</td>\n",
       "      <td>0.025135</td>\n",
       "      <td>0.007954</td>\n",
       "      <td>16.23</td>\n",
       "      <td>16.71</td>\n",
       "      <td>17.44</td>\n",
       "      <td>...</td>\n",
       "      <td>False</td>\n",
       "      <td>False</td>\n",
       "      <td>False</td>\n",
       "      <td>False</td>\n",
       "      <td>False</td>\n",
       "      <td>False</td>\n",
       "      <td>False</td>\n",
       "      <td>False</td>\n",
       "      <td>False</td>\n",
       "      <td>21.150001</td>\n",
       "    </tr>\n",
       "    <tr>\n",
       "      <th>3</th>\n",
       "      <td>356.126</td>\n",
       "      <td>28.29</td>\n",
       "      <td>-1.409996</td>\n",
       "      <td>-0.011557</td>\n",
       "      <td>-0.020185</td>\n",
       "      <td>0.003352</td>\n",
       "      <td>-0.047518</td>\n",
       "      <td>26.66</td>\n",
       "      <td>26.24</td>\n",
       "      <td>28.18</td>\n",
       "      <td>...</td>\n",
       "      <td>False</td>\n",
       "      <td>False</td>\n",
       "      <td>False</td>\n",
       "      <td>False</td>\n",
       "      <td>False</td>\n",
       "      <td>False</td>\n",
       "      <td>False</td>\n",
       "      <td>False</td>\n",
       "      <td>False</td>\n",
       "      <td>19.360001</td>\n",
       "    </tr>\n",
       "    <tr>\n",
       "      <th>4</th>\n",
       "      <td>772.041</td>\n",
       "      <td>11.49</td>\n",
       "      <td>0.079987</td>\n",
       "      <td>0.001576</td>\n",
       "      <td>0.000724</td>\n",
       "      <td>0.025519</td>\n",
       "      <td>0.033136</td>\n",
       "      <td>11.76</td>\n",
       "      <td>11.97</td>\n",
       "      <td>10.74</td>\n",
       "      <td>...</td>\n",
       "      <td>False</td>\n",
       "      <td>False</td>\n",
       "      <td>False</td>\n",
       "      <td>False</td>\n",
       "      <td>False</td>\n",
       "      <td>False</td>\n",
       "      <td>False</td>\n",
       "      <td>False</td>\n",
       "      <td>False</td>\n",
       "      <td>21.400009</td>\n",
       "    </tr>\n",
       "  </tbody>\n",
       "</table>\n",
       "<p>5 rows × 86 columns</p>\n",
       "</div>"
      ],
      "text/plain": [
       "       num1   num2      num3      num4      num5      num6      num7   num8  \\\n",
       "0  1424.241  15.70 -1.930008 -0.005399 -0.014426 -0.017944  0.011322  15.22   \n",
       "1   983.787  15.59  0.190003 -0.000129  0.002850  0.017414  0.033371  15.15   \n",
       "2   105.075  16.32  0.809998  0.000752  0.004340  0.025135  0.007954  16.23   \n",
       "3   356.126  28.29 -1.409996 -0.011557 -0.020185  0.003352 -0.047518  26.66   \n",
       "4   772.041  11.49  0.079987  0.001576  0.000724  0.025519  0.033136  11.76   \n",
       "\n",
       "    num9  num10    ...      cat18  cat19  cat20  cat21  cat22  cat23  cat24  \\\n",
       "0  13.77  13.96    ...      False   True  False  False  False  False  False   \n",
       "1  15.54  16.64    ...      False  False  False  False  False  False  False   \n",
       "2  16.71  17.44    ...      False  False  False  False  False  False  False   \n",
       "3  26.24  28.18    ...      False  False  False  False  False  False  False   \n",
       "4  11.97  10.74    ...      False  False  False  False  False  False  False   \n",
       "\n",
       "   cat25  cat26     target  \n",
       "0  False  False  21.639999  \n",
       "1  False  False  19.919998  \n",
       "2  False  False  21.150001  \n",
       "3  False  False  19.360001  \n",
       "4  False  False  21.400009  \n",
       "\n",
       "[5 rows x 86 columns]"
      ]
     },
     "execution_count": 4,
     "metadata": {},
     "output_type": "execute_result"
    }
   ],
   "source": [
    "df.head()"
   ]
  },
  {
   "cell_type": "code",
   "execution_count": 5,
   "metadata": {},
   "outputs": [
    {
     "name": "stdout",
     "output_type": "stream",
     "text": [
      "C    1303\n",
      "B    1303\n",
      "D    1279\n",
      "E    1271\n",
      "A    1194\n",
      "Name: cat1, dtype: int64\n",
      "F    557\n",
      "H    554\n",
      "J    550\n",
      "E    550\n",
      "C    547\n",
      "G    529\n",
      "L    529\n",
      "D    527\n",
      "K    510\n",
      "A    509\n",
      "I    508\n",
      "B    480\n",
      "Name: cat2, dtype: int64\n",
      "False    6131\n",
      "True      219\n",
      "Name: cat3, dtype: int64\n",
      "False    6070\n",
      "True      280\n",
      "Name: cat4, dtype: int64\n",
      "False    6099\n",
      "True      251\n",
      "Name: cat5, dtype: int64\n",
      "False    6156\n",
      "True      194\n",
      "Name: cat6, dtype: int64\n",
      "False    6192\n",
      "True      158\n",
      "Name: cat7, dtype: int64\n",
      "False    6281\n",
      "True       69\n",
      "Name: cat8, dtype: int64\n",
      "False    6322\n",
      "True       28\n",
      "Name: cat9, dtype: int64\n",
      "False    6306\n",
      "True       44\n",
      "Name: cat10, dtype: int64\n",
      "False    6131\n",
      "True      219\n",
      "Name: cat11, dtype: int64\n",
      "False    6070\n",
      "True      280\n",
      "Name: cat12, dtype: int64\n",
      "False    6099\n",
      "True      251\n",
      "Name: cat13, dtype: int64\n",
      "False    6156\n",
      "True      194\n",
      "Name: cat14, dtype: int64\n",
      "False    6306\n",
      "True       44\n",
      "Name: cat15, dtype: int64\n",
      "False    6322\n",
      "True       28\n",
      "Name: cat16, dtype: int64\n",
      "False    6192\n",
      "True      158\n",
      "Name: cat17, dtype: int64\n",
      "False    6281\n",
      "True       69\n",
      "Name: cat18, dtype: int64\n",
      "False    6131\n",
      "True      219\n",
      "Name: cat19, dtype: int64\n",
      "False    6070\n",
      "True      280\n",
      "Name: cat20, dtype: int64\n",
      "False    6100\n",
      "True      250\n",
      "Name: cat21, dtype: int64\n",
      "False    6156\n",
      "True      194\n",
      "Name: cat22, dtype: int64\n",
      "False    6307\n",
      "True       43\n",
      "Name: cat23, dtype: int64\n",
      "False    6322\n",
      "True       28\n",
      "Name: cat24, dtype: int64\n",
      "False    6192\n",
      "True      158\n",
      "Name: cat25, dtype: int64\n",
      "False    6281\n",
      "True       69\n",
      "Name: cat26, dtype: int64\n"
     ]
    }
   ],
   "source": [
    "for col in df.columns:\n",
    "    if col[0:3] == 'cat':\n",
    "        print(df[col].value_counts())"
   ]
  },
  {
   "cell_type": "code",
   "execution_count": 6,
   "metadata": {},
   "outputs": [
    {
     "data": {
      "text/html": [
       "<div>\n",
       "<style scoped>\n",
       "    .dataframe tbody tr th:only-of-type {\n",
       "        vertical-align: middle;\n",
       "    }\n",
       "\n",
       "    .dataframe tbody tr th {\n",
       "        vertical-align: top;\n",
       "    }\n",
       "\n",
       "    .dataframe thead th {\n",
       "        text-align: right;\n",
       "    }\n",
       "</style>\n",
       "<table border=\"1\" class=\"dataframe\">\n",
       "  <thead>\n",
       "    <tr style=\"text-align: right;\">\n",
       "      <th></th>\n",
       "      <th>cat1_A</th>\n",
       "      <th>cat1_B</th>\n",
       "      <th>cat1_C</th>\n",
       "      <th>cat1_D</th>\n",
       "      <th>cat1_E</th>\n",
       "    </tr>\n",
       "  </thead>\n",
       "  <tbody>\n",
       "    <tr>\n",
       "      <th>0</th>\n",
       "      <td>0</td>\n",
       "      <td>0</td>\n",
       "      <td>0</td>\n",
       "      <td>0</td>\n",
       "      <td>1</td>\n",
       "    </tr>\n",
       "    <tr>\n",
       "      <th>1</th>\n",
       "      <td>1</td>\n",
       "      <td>0</td>\n",
       "      <td>0</td>\n",
       "      <td>0</td>\n",
       "      <td>0</td>\n",
       "    </tr>\n",
       "    <tr>\n",
       "      <th>2</th>\n",
       "      <td>0</td>\n",
       "      <td>0</td>\n",
       "      <td>0</td>\n",
       "      <td>0</td>\n",
       "      <td>1</td>\n",
       "    </tr>\n",
       "    <tr>\n",
       "      <th>3</th>\n",
       "      <td>0</td>\n",
       "      <td>0</td>\n",
       "      <td>1</td>\n",
       "      <td>0</td>\n",
       "      <td>0</td>\n",
       "    </tr>\n",
       "    <tr>\n",
       "      <th>4</th>\n",
       "      <td>0</td>\n",
       "      <td>0</td>\n",
       "      <td>0</td>\n",
       "      <td>0</td>\n",
       "      <td>1</td>\n",
       "    </tr>\n",
       "  </tbody>\n",
       "</table>\n",
       "</div>"
      ],
      "text/plain": [
       "   cat1_A  cat1_B  cat1_C  cat1_D  cat1_E\n",
       "0       0       0       0       0       1\n",
       "1       1       0       0       0       0\n",
       "2       0       0       0       0       1\n",
       "3       0       0       1       0       0\n",
       "4       0       0       0       0       1"
      ]
     },
     "execution_count": 6,
     "metadata": {},
     "output_type": "execute_result"
    }
   ],
   "source": [
    "dummies1 = pd.get_dummies(df['cat1'], prefix='cat1')\n",
    "dummies1.head()"
   ]
  },
  {
   "cell_type": "code",
   "execution_count": 7,
   "metadata": {},
   "outputs": [
    {
     "data": {
      "text/html": [
       "<div>\n",
       "<style scoped>\n",
       "    .dataframe tbody tr th:only-of-type {\n",
       "        vertical-align: middle;\n",
       "    }\n",
       "\n",
       "    .dataframe tbody tr th {\n",
       "        vertical-align: top;\n",
       "    }\n",
       "\n",
       "    .dataframe thead th {\n",
       "        text-align: right;\n",
       "    }\n",
       "</style>\n",
       "<table border=\"1\" class=\"dataframe\">\n",
       "  <thead>\n",
       "    <tr style=\"text-align: right;\">\n",
       "      <th></th>\n",
       "      <th>cat2_A</th>\n",
       "      <th>cat2_B</th>\n",
       "      <th>cat2_C</th>\n",
       "      <th>cat2_D</th>\n",
       "      <th>cat2_E</th>\n",
       "      <th>cat2_F</th>\n",
       "      <th>cat2_G</th>\n",
       "      <th>cat2_H</th>\n",
       "      <th>cat2_I</th>\n",
       "      <th>cat2_J</th>\n",
       "      <th>cat2_K</th>\n",
       "      <th>cat2_L</th>\n",
       "    </tr>\n",
       "  </thead>\n",
       "  <tbody>\n",
       "    <tr>\n",
       "      <th>0</th>\n",
       "      <td>0</td>\n",
       "      <td>0</td>\n",
       "      <td>0</td>\n",
       "      <td>1</td>\n",
       "      <td>0</td>\n",
       "      <td>0</td>\n",
       "      <td>0</td>\n",
       "      <td>0</td>\n",
       "      <td>0</td>\n",
       "      <td>0</td>\n",
       "      <td>0</td>\n",
       "      <td>0</td>\n",
       "    </tr>\n",
       "    <tr>\n",
       "      <th>1</th>\n",
       "      <td>0</td>\n",
       "      <td>0</td>\n",
       "      <td>0</td>\n",
       "      <td>0</td>\n",
       "      <td>0</td>\n",
       "      <td>0</td>\n",
       "      <td>1</td>\n",
       "      <td>0</td>\n",
       "      <td>0</td>\n",
       "      <td>0</td>\n",
       "      <td>0</td>\n",
       "      <td>0</td>\n",
       "    </tr>\n",
       "    <tr>\n",
       "      <th>2</th>\n",
       "      <td>0</td>\n",
       "      <td>0</td>\n",
       "      <td>0</td>\n",
       "      <td>0</td>\n",
       "      <td>0</td>\n",
       "      <td>0</td>\n",
       "      <td>0</td>\n",
       "      <td>0</td>\n",
       "      <td>0</td>\n",
       "      <td>0</td>\n",
       "      <td>1</td>\n",
       "      <td>0</td>\n",
       "    </tr>\n",
       "    <tr>\n",
       "      <th>3</th>\n",
       "      <td>0</td>\n",
       "      <td>0</td>\n",
       "      <td>0</td>\n",
       "      <td>0</td>\n",
       "      <td>0</td>\n",
       "      <td>0</td>\n",
       "      <td>0</td>\n",
       "      <td>0</td>\n",
       "      <td>0</td>\n",
       "      <td>0</td>\n",
       "      <td>0</td>\n",
       "      <td>1</td>\n",
       "    </tr>\n",
       "    <tr>\n",
       "      <th>4</th>\n",
       "      <td>0</td>\n",
       "      <td>1</td>\n",
       "      <td>0</td>\n",
       "      <td>0</td>\n",
       "      <td>0</td>\n",
       "      <td>0</td>\n",
       "      <td>0</td>\n",
       "      <td>0</td>\n",
       "      <td>0</td>\n",
       "      <td>0</td>\n",
       "      <td>0</td>\n",
       "      <td>0</td>\n",
       "    </tr>\n",
       "  </tbody>\n",
       "</table>\n",
       "</div>"
      ],
      "text/plain": [
       "   cat2_A  cat2_B  cat2_C  cat2_D  cat2_E  cat2_F  cat2_G  cat2_H  cat2_I  \\\n",
       "0       0       0       0       1       0       0       0       0       0   \n",
       "1       0       0       0       0       0       0       1       0       0   \n",
       "2       0       0       0       0       0       0       0       0       0   \n",
       "3       0       0       0       0       0       0       0       0       0   \n",
       "4       0       1       0       0       0       0       0       0       0   \n",
       "\n",
       "   cat2_J  cat2_K  cat2_L  \n",
       "0       0       0       0  \n",
       "1       0       0       0  \n",
       "2       0       1       0  \n",
       "3       0       0       1  \n",
       "4       0       0       0  "
      ]
     },
     "execution_count": 7,
     "metadata": {},
     "output_type": "execute_result"
    }
   ],
   "source": [
    "dummies2 = pd.get_dummies(df['cat2'], prefix='cat2')\n",
    "dummies2.head()"
   ]
  },
  {
   "cell_type": "code",
   "execution_count": 8,
   "metadata": {},
   "outputs": [],
   "source": [
    "df_final = df.join(dummies1).join(dummies2)\n",
    "df_final.drop(['cat1','cat2'], axis=1, inplace=True)"
   ]
  },
  {
   "cell_type": "code",
   "execution_count": 9,
   "metadata": {},
   "outputs": [
    {
     "data": {
      "text/html": [
       "<div>\n",
       "<style scoped>\n",
       "    .dataframe tbody tr th:only-of-type {\n",
       "        vertical-align: middle;\n",
       "    }\n",
       "\n",
       "    .dataframe tbody tr th {\n",
       "        vertical-align: top;\n",
       "    }\n",
       "\n",
       "    .dataframe thead th {\n",
       "        text-align: right;\n",
       "    }\n",
       "</style>\n",
       "<table border=\"1\" class=\"dataframe\">\n",
       "  <thead>\n",
       "    <tr style=\"text-align: right;\">\n",
       "      <th></th>\n",
       "      <th>num1</th>\n",
       "      <th>num2</th>\n",
       "      <th>num3</th>\n",
       "      <th>num4</th>\n",
       "      <th>num5</th>\n",
       "      <th>num6</th>\n",
       "      <th>num7</th>\n",
       "      <th>num8</th>\n",
       "      <th>num9</th>\n",
       "      <th>num10</th>\n",
       "      <th>...</th>\n",
       "      <th>cat2_C</th>\n",
       "      <th>cat2_D</th>\n",
       "      <th>cat2_E</th>\n",
       "      <th>cat2_F</th>\n",
       "      <th>cat2_G</th>\n",
       "      <th>cat2_H</th>\n",
       "      <th>cat2_I</th>\n",
       "      <th>cat2_J</th>\n",
       "      <th>cat2_K</th>\n",
       "      <th>cat2_L</th>\n",
       "    </tr>\n",
       "  </thead>\n",
       "  <tbody>\n",
       "    <tr>\n",
       "      <th>count</th>\n",
       "      <td>6350.000000</td>\n",
       "      <td>6350.000000</td>\n",
       "      <td>6350.000000</td>\n",
       "      <td>6350.000000</td>\n",
       "      <td>6350.000000</td>\n",
       "      <td>6350.000000</td>\n",
       "      <td>6350.000000</td>\n",
       "      <td>6350.000000</td>\n",
       "      <td>6350.000000</td>\n",
       "      <td>6350.000000</td>\n",
       "      <td>...</td>\n",
       "      <td>6350.000000</td>\n",
       "      <td>6350.000000</td>\n",
       "      <td>6350.000000</td>\n",
       "      <td>6350.000000</td>\n",
       "      <td>6350.000000</td>\n",
       "      <td>6350.000000</td>\n",
       "      <td>6350.000000</td>\n",
       "      <td>6350.000000</td>\n",
       "      <td>6350.000000</td>\n",
       "      <td>6350.000000</td>\n",
       "    </tr>\n",
       "    <tr>\n",
       "      <th>mean</th>\n",
       "      <td>849.859489</td>\n",
       "      <td>19.424687</td>\n",
       "      <td>0.035514</td>\n",
       "      <td>0.000350</td>\n",
       "      <td>0.000692</td>\n",
       "      <td>0.002359</td>\n",
       "      <td>0.004674</td>\n",
       "      <td>19.423997</td>\n",
       "      <td>19.423383</td>\n",
       "      <td>19.422728</td>\n",
       "      <td>...</td>\n",
       "      <td>0.086142</td>\n",
       "      <td>0.082992</td>\n",
       "      <td>0.086614</td>\n",
       "      <td>0.087717</td>\n",
       "      <td>0.083307</td>\n",
       "      <td>0.087244</td>\n",
       "      <td>0.080000</td>\n",
       "      <td>0.086614</td>\n",
       "      <td>0.080315</td>\n",
       "      <td>0.083307</td>\n",
       "    </tr>\n",
       "    <tr>\n",
       "      <th>std</th>\n",
       "      <td>1000.217417</td>\n",
       "      <td>8.141230</td>\n",
       "      <td>1.378046</td>\n",
       "      <td>0.011589</td>\n",
       "      <td>0.015842</td>\n",
       "      <td>0.026975</td>\n",
       "      <td>0.036410</td>\n",
       "      <td>8.141693</td>\n",
       "      <td>8.142129</td>\n",
       "      <td>8.142565</td>\n",
       "      <td>...</td>\n",
       "      <td>0.280595</td>\n",
       "      <td>0.275892</td>\n",
       "      <td>0.281291</td>\n",
       "      <td>0.282904</td>\n",
       "      <td>0.276368</td>\n",
       "      <td>0.282215</td>\n",
       "      <td>0.271315</td>\n",
       "      <td>0.281291</td>\n",
       "      <td>0.271802</td>\n",
       "      <td>0.276368</td>\n",
       "    </tr>\n",
       "    <tr>\n",
       "      <th>min</th>\n",
       "      <td>0.052000</td>\n",
       "      <td>9.140000</td>\n",
       "      <td>-15.120010</td>\n",
       "      <td>-0.098448</td>\n",
       "      <td>-0.133555</td>\n",
       "      <td>-0.237463</td>\n",
       "      <td>-0.270464</td>\n",
       "      <td>9.140000</td>\n",
       "      <td>9.140000</td>\n",
       "      <td>9.140000</td>\n",
       "      <td>...</td>\n",
       "      <td>0.000000</td>\n",
       "      <td>0.000000</td>\n",
       "      <td>0.000000</td>\n",
       "      <td>0.000000</td>\n",
       "      <td>0.000000</td>\n",
       "      <td>0.000000</td>\n",
       "      <td>0.000000</td>\n",
       "      <td>0.000000</td>\n",
       "      <td>0.000000</td>\n",
       "      <td>0.000000</td>\n",
       "    </tr>\n",
       "    <tr>\n",
       "      <th>25%</th>\n",
       "      <td>68.644250</td>\n",
       "      <td>13.420000</td>\n",
       "      <td>-0.529998</td>\n",
       "      <td>-0.004574</td>\n",
       "      <td>-0.006676</td>\n",
       "      <td>-0.010854</td>\n",
       "      <td>-0.012989</td>\n",
       "      <td>13.420000</td>\n",
       "      <td>13.420000</td>\n",
       "      <td>13.420000</td>\n",
       "      <td>...</td>\n",
       "      <td>0.000000</td>\n",
       "      <td>0.000000</td>\n",
       "      <td>0.000000</td>\n",
       "      <td>0.000000</td>\n",
       "      <td>0.000000</td>\n",
       "      <td>0.000000</td>\n",
       "      <td>0.000000</td>\n",
       "      <td>0.000000</td>\n",
       "      <td>0.000000</td>\n",
       "      <td>0.000000</td>\n",
       "    </tr>\n",
       "    <tr>\n",
       "      <th>50%</th>\n",
       "      <td>558.720000</td>\n",
       "      <td>17.540000</td>\n",
       "      <td>0.079990</td>\n",
       "      <td>0.000598</td>\n",
       "      <td>0.001327</td>\n",
       "      <td>0.004094</td>\n",
       "      <td>0.007847</td>\n",
       "      <td>17.540000</td>\n",
       "      <td>17.540000</td>\n",
       "      <td>17.540000</td>\n",
       "      <td>...</td>\n",
       "      <td>0.000000</td>\n",
       "      <td>0.000000</td>\n",
       "      <td>0.000000</td>\n",
       "      <td>0.000000</td>\n",
       "      <td>0.000000</td>\n",
       "      <td>0.000000</td>\n",
       "      <td>0.000000</td>\n",
       "      <td>0.000000</td>\n",
       "      <td>0.000000</td>\n",
       "      <td>0.000000</td>\n",
       "    </tr>\n",
       "    <tr>\n",
       "      <th>75%</th>\n",
       "      <td>1250.553750</td>\n",
       "      <td>23.010000</td>\n",
       "      <td>0.639999</td>\n",
       "      <td>0.005726</td>\n",
       "      <td>0.008740</td>\n",
       "      <td>0.017024</td>\n",
       "      <td>0.025125</td>\n",
       "      <td>23.010000</td>\n",
       "      <td>23.010000</td>\n",
       "      <td>23.010000</td>\n",
       "      <td>...</td>\n",
       "      <td>0.000000</td>\n",
       "      <td>0.000000</td>\n",
       "      <td>0.000000</td>\n",
       "      <td>0.000000</td>\n",
       "      <td>0.000000</td>\n",
       "      <td>0.000000</td>\n",
       "      <td>0.000000</td>\n",
       "      <td>0.000000</td>\n",
       "      <td>0.000000</td>\n",
       "      <td>0.000000</td>\n",
       "    </tr>\n",
       "    <tr>\n",
       "      <th>max</th>\n",
       "      <td>8710.263000</td>\n",
       "      <td>80.860000</td>\n",
       "      <td>9.529999</td>\n",
       "      <td>0.145198</td>\n",
       "      <td>0.128249</td>\n",
       "      <td>0.173543</td>\n",
       "      <td>0.205891</td>\n",
       "      <td>80.860000</td>\n",
       "      <td>80.860000</td>\n",
       "      <td>80.860000</td>\n",
       "      <td>...</td>\n",
       "      <td>1.000000</td>\n",
       "      <td>1.000000</td>\n",
       "      <td>1.000000</td>\n",
       "      <td>1.000000</td>\n",
       "      <td>1.000000</td>\n",
       "      <td>1.000000</td>\n",
       "      <td>1.000000</td>\n",
       "      <td>1.000000</td>\n",
       "      <td>1.000000</td>\n",
       "      <td>1.000000</td>\n",
       "    </tr>\n",
       "  </tbody>\n",
       "</table>\n",
       "<p>8 rows × 77 columns</p>\n",
       "</div>"
      ],
      "text/plain": [
       "              num1         num2         num3         num4         num5  \\\n",
       "count  6350.000000  6350.000000  6350.000000  6350.000000  6350.000000   \n",
       "mean    849.859489    19.424687     0.035514     0.000350     0.000692   \n",
       "std    1000.217417     8.141230     1.378046     0.011589     0.015842   \n",
       "min       0.052000     9.140000   -15.120010    -0.098448    -0.133555   \n",
       "25%      68.644250    13.420000    -0.529998    -0.004574    -0.006676   \n",
       "50%     558.720000    17.540000     0.079990     0.000598     0.001327   \n",
       "75%    1250.553750    23.010000     0.639999     0.005726     0.008740   \n",
       "max    8710.263000    80.860000     9.529999     0.145198     0.128249   \n",
       "\n",
       "              num6         num7         num8         num9        num10  \\\n",
       "count  6350.000000  6350.000000  6350.000000  6350.000000  6350.000000   \n",
       "mean      0.002359     0.004674    19.423997    19.423383    19.422728   \n",
       "std       0.026975     0.036410     8.141693     8.142129     8.142565   \n",
       "min      -0.237463    -0.270464     9.140000     9.140000     9.140000   \n",
       "25%      -0.010854    -0.012989    13.420000    13.420000    13.420000   \n",
       "50%       0.004094     0.007847    17.540000    17.540000    17.540000   \n",
       "75%       0.017024     0.025125    23.010000    23.010000    23.010000   \n",
       "max       0.173543     0.205891    80.860000    80.860000    80.860000   \n",
       "\n",
       "          ...            cat2_C       cat2_D       cat2_E       cat2_F  \\\n",
       "count     ...       6350.000000  6350.000000  6350.000000  6350.000000   \n",
       "mean      ...          0.086142     0.082992     0.086614     0.087717   \n",
       "std       ...          0.280595     0.275892     0.281291     0.282904   \n",
       "min       ...          0.000000     0.000000     0.000000     0.000000   \n",
       "25%       ...          0.000000     0.000000     0.000000     0.000000   \n",
       "50%       ...          0.000000     0.000000     0.000000     0.000000   \n",
       "75%       ...          0.000000     0.000000     0.000000     0.000000   \n",
       "max       ...          1.000000     1.000000     1.000000     1.000000   \n",
       "\n",
       "            cat2_G       cat2_H       cat2_I       cat2_J       cat2_K  \\\n",
       "count  6350.000000  6350.000000  6350.000000  6350.000000  6350.000000   \n",
       "mean      0.083307     0.087244     0.080000     0.086614     0.080315   \n",
       "std       0.276368     0.282215     0.271315     0.281291     0.271802   \n",
       "min       0.000000     0.000000     0.000000     0.000000     0.000000   \n",
       "25%       0.000000     0.000000     0.000000     0.000000     0.000000   \n",
       "50%       0.000000     0.000000     0.000000     0.000000     0.000000   \n",
       "75%       0.000000     0.000000     0.000000     0.000000     0.000000   \n",
       "max       1.000000     1.000000     1.000000     1.000000     1.000000   \n",
       "\n",
       "            cat2_L  \n",
       "count  6350.000000  \n",
       "mean      0.083307  \n",
       "std       0.276368  \n",
       "min       0.000000  \n",
       "25%       0.000000  \n",
       "50%       0.000000  \n",
       "75%       0.000000  \n",
       "max       1.000000  \n",
       "\n",
       "[8 rows x 77 columns]"
      ]
     },
     "execution_count": 9,
     "metadata": {},
     "output_type": "execute_result"
    }
   ],
   "source": [
    "df_final.describe()"
   ]
  },
  {
   "cell_type": "code",
   "execution_count": 10,
   "metadata": {},
   "outputs": [],
   "source": [
    "var = df_final.drop('target',axis=1)\n",
    "target = df_final['target']"
   ]
  },
  {
   "cell_type": "code",
   "execution_count": 64,
   "metadata": {},
   "outputs": [],
   "source": [
    "from sklearn import linear_model\n",
    "from sklearn.metrics import mean_absolute_error\n",
    "from sklearn.model_selection import GridSearchCV, cross_validate, RandomizedSearchCV, train_test_split"
   ]
  },
  {
   "cell_type": "code",
   "execution_count": 12,
   "metadata": {},
   "outputs": [],
   "source": [
    "baseline = [target.mean()] * len(target)\n",
    "base_score = mean_absolute_error(target, baseline)"
   ]
  },
  {
   "cell_type": "code",
   "execution_count": 13,
   "metadata": {},
   "outputs": [
    {
     "data": {
      "text/plain": [
       "LinearRegression(copy_X=True, fit_intercept=True, n_jobs=None,\n",
       "         normalize=False)"
      ]
     },
     "execution_count": 13,
     "metadata": {},
     "output_type": "execute_result"
    }
   ],
   "source": [
    "reg = linear_model.LinearRegression()\n",
    "reg.fit(var, target)"
   ]
  },
  {
   "cell_type": "code",
   "execution_count": 14,
   "metadata": {},
   "outputs": [
    {
     "data": {
      "text/plain": [
       "0.02855167165747352"
      ]
     },
     "execution_count": 14,
     "metadata": {},
     "output_type": "execute_result"
    }
   ],
   "source": [
    "reg.score(var, target)"
   ]
  },
  {
   "cell_type": "code",
   "execution_count": 15,
   "metadata": {},
   "outputs": [
    {
     "data": {
      "text/plain": [
       "0.0008437798104576899"
      ]
     },
     "execution_count": 15,
     "metadata": {},
     "output_type": "execute_result"
    }
   ],
   "source": [
    "preds = reg.predict(var)\n",
    "OLS_mae = mean_absolute_error(target, preds)\n",
    "base_score - OLS_mae"
   ]
  },
  {
   "cell_type": "code",
   "execution_count": 16,
   "metadata": {},
   "outputs": [
    {
     "data": {
      "text/plain": [
       "Lasso(alpha=1.0, copy_X=True, fit_intercept=True, max_iter=1000,\n",
       "   normalize=False, positive=False, precompute=False, random_state=None,\n",
       "   selection='cyclic', tol=0.0001, warm_start=False)"
      ]
     },
     "execution_count": 16,
     "metadata": {},
     "output_type": "execute_result"
    }
   ],
   "source": [
    "lasso = linear_model.Lasso()\n",
    "lasso.fit(var, target)"
   ]
  },
  {
   "cell_type": "code",
   "execution_count": 17,
   "metadata": {},
   "outputs": [
    {
     "data": {
      "text/plain": [
       "0.0015274611158285767"
      ]
     },
     "execution_count": 17,
     "metadata": {},
     "output_type": "execute_result"
    }
   ],
   "source": [
    "lasso_preds = lasso.predict(var)\n",
    "lasso_mae = mean_absolute_error(target, lasso_preds)\n",
    "base_score - lasso_mae"
   ]
  },
  {
   "cell_type": "code",
   "execution_count": 18,
   "metadata": {},
   "outputs": [],
   "source": [
    "from sklearn.tree import DecisionTreeRegressor"
   ]
  },
  {
   "cell_type": "code",
   "execution_count": 19,
   "metadata": {},
   "outputs": [],
   "source": [
    "tree = DecisionTreeRegressor()\n",
    "cv = cross_validate(tree, var, target, scoring='neg_mean_absolute_error', return_train_score=True, cv=5)"
   ]
  },
  {
   "cell_type": "code",
   "execution_count": 20,
   "metadata": {},
   "outputs": [
    {
     "data": {
      "text/plain": [
       "dict_keys(['fit_time', 'score_time', 'test_score', 'train_score'])"
      ]
     },
     "execution_count": 20,
     "metadata": {},
     "output_type": "execute_result"
    }
   ],
   "source": [
    "cv.keys()"
   ]
  },
  {
   "cell_type": "code",
   "execution_count": 21,
   "metadata": {},
   "outputs": [
    {
     "data": {
      "text/plain": [
       "array([-1.468004  , -1.41615268, -1.41121311, -1.46245574, -1.38853182])"
      ]
     },
     "execution_count": 21,
     "metadata": {},
     "output_type": "execute_result"
    }
   ],
   "source": [
    "cv['test_score']"
   ]
  },
  {
   "cell_type": "code",
   "execution_count": 22,
   "metadata": {},
   "outputs": [
    {
     "data": {
      "text/plain": [
       "array([-4.25590551e-07, -7.58038058e-07, -7.39304462e-07, -4.58825459e-07,\n",
       "       -3.84383202e-07])"
      ]
     },
     "execution_count": 22,
     "metadata": {},
     "output_type": "execute_result"
    }
   ],
   "source": [
    "cv['train_score']"
   ]
  },
  {
   "cell_type": "code",
   "execution_count": 23,
   "metadata": {},
   "outputs": [
    {
     "data": {
      "text/plain": [
       "GridSearchCV(cv=5, error_score='raise-deprecating',\n",
       "       estimator=DecisionTreeRegressor(criterion='mse', max_depth=None, max_features=None,\n",
       "           max_leaf_nodes=None, min_impurity_decrease=0.0,\n",
       "           min_impurity_split=None, min_samples_leaf=1,\n",
       "           min_samples_split=2, min_weight_fraction_leaf=0.0,\n",
       "           presort=False, random_state=None, splitter='best'),\n",
       "       fit_params=None, iid='warn', n_jobs=None,\n",
       "       param_grid={'max_depth': [1, 2, 3, 4, 5, 6, 7, 8, 9, 10], 'min_samples_split': [2, 5, 10, 20], 'min_samples_leaf': [1, 2, 5, 8, 10, 20, 30, 40]},\n",
       "       pre_dispatch='2*n_jobs', refit=True, return_train_score='warn',\n",
       "       scoring='neg_mean_absolute_error', verbose=0)"
      ]
     },
     "execution_count": 23,
     "metadata": {},
     "output_type": "execute_result"
    }
   ],
   "source": [
    "tree_params = {'max_depth': [i+1 for i in range(10)], 'min_samples_split' :[2,5,10,20], 'min_samples_leaf':[1,2,5,8,10,20,30,40]}\n",
    "grid = GridSearchCV(tree, param_grid=tree_params,scoring='neg_mean_absolute_error', cv=5)\n",
    "grid.fit(var, target)"
   ]
  },
  {
   "cell_type": "code",
   "execution_count": 24,
   "metadata": {},
   "outputs": [
    {
     "name": "stderr",
     "output_type": "stream",
     "text": [
      "C:\\Users\\johnb\\Anaconda3\\lib\\site-packages\\sklearn\\utils\\deprecation.py:125: FutureWarning: You are accessing a training score ('split0_train_score'), which will not be available by default any more in 0.21. If you need training scores, please set return_train_score=True\n",
      "  warnings.warn(*warn_args, **warn_kwargs)\n",
      "C:\\Users\\johnb\\Anaconda3\\lib\\site-packages\\sklearn\\utils\\deprecation.py:125: FutureWarning: You are accessing a training score ('split1_train_score'), which will not be available by default any more in 0.21. If you need training scores, please set return_train_score=True\n",
      "  warnings.warn(*warn_args, **warn_kwargs)\n",
      "C:\\Users\\johnb\\Anaconda3\\lib\\site-packages\\sklearn\\utils\\deprecation.py:125: FutureWarning: You are accessing a training score ('split2_train_score'), which will not be available by default any more in 0.21. If you need training scores, please set return_train_score=True\n",
      "  warnings.warn(*warn_args, **warn_kwargs)\n",
      "C:\\Users\\johnb\\Anaconda3\\lib\\site-packages\\sklearn\\utils\\deprecation.py:125: FutureWarning: You are accessing a training score ('split3_train_score'), which will not be available by default any more in 0.21. If you need training scores, please set return_train_score=True\n",
      "  warnings.warn(*warn_args, **warn_kwargs)\n",
      "C:\\Users\\johnb\\Anaconda3\\lib\\site-packages\\sklearn\\utils\\deprecation.py:125: FutureWarning: You are accessing a training score ('split4_train_score'), which will not be available by default any more in 0.21. If you need training scores, please set return_train_score=True\n",
      "  warnings.warn(*warn_args, **warn_kwargs)\n",
      "C:\\Users\\johnb\\Anaconda3\\lib\\site-packages\\sklearn\\utils\\deprecation.py:125: FutureWarning: You are accessing a training score ('mean_train_score'), which will not be available by default any more in 0.21. If you need training scores, please set return_train_score=True\n",
      "  warnings.warn(*warn_args, **warn_kwargs)\n",
      "C:\\Users\\johnb\\Anaconda3\\lib\\site-packages\\sklearn\\utils\\deprecation.py:125: FutureWarning: You are accessing a training score ('std_train_score'), which will not be available by default any more in 0.21. If you need training scores, please set return_train_score=True\n",
      "  warnings.warn(*warn_args, **warn_kwargs)\n"
     ]
    },
    {
     "data": {
      "text/plain": [
       "0.001829154947492806"
      ]
     },
     "execution_count": 24,
     "metadata": {},
     "output_type": "execute_result"
    }
   ],
   "source": [
    "grid_df = pd.DataFrame(grid.cv_results_)\n",
    "base_score - (-1 * grid_df['mean_test_score'].max())\n"
   ]
  },
  {
   "cell_type": "code",
   "execution_count": 36,
   "metadata": {},
   "outputs": [],
   "source": [
    "from sklearn.ensemble import RandomForestRegressor"
   ]
  },
  {
   "cell_type": "code",
   "execution_count": 87,
   "metadata": {},
   "outputs": [
    {
     "data": {
      "text/plain": [
       "0.9602879158667785"
      ]
     },
     "execution_count": 87,
     "metadata": {},
     "output_type": "execute_result"
    }
   ],
   "source": [
    "var_train, var_test, target_train, target_test = train_test_split(var, target, test_size=0.3, random_state=69)\n",
    "baseline = [target_train.mean()] * len(target_test)\n",
    "base_score = mean_absolute_error(target_test, baseline)\n",
    "base_score"
   ]
  },
  {
   "cell_type": "code",
   "execution_count": 91,
   "metadata": {},
   "outputs": [
    {
     "name": "stdout",
     "output_type": "stream",
     "text": [
      "time:  62.301276814585435\n"
     ]
    }
   ],
   "source": [
    "start = timeit.default_timer()\n",
    "test_forest = RandomForestRegressor(n_estimators=500, n_jobs=6, random_state=69)\n",
    "test_forest.fit(var_train, target_train)\n",
    "stop = timeit.default_timer()\n",
    "\n",
    "print('time: ',stop-start)"
   ]
  },
  {
   "cell_type": "code",
   "execution_count": 92,
   "metadata": {},
   "outputs": [
    {
     "data": {
      "text/plain": [
       "-0.018224755261102565"
      ]
     },
     "execution_count": 92,
     "metadata": {},
     "output_type": "execute_result"
    }
   ],
   "source": [
    "test_forest_preds = test_forest.predict(var_test)\n",
    "test_forest_mae = mean_absolute_error(target_test, test_forest_preds)\n",
    "base_score - test_forest_mae"
   ]
  },
  {
   "cell_type": "code",
   "execution_count": 69,
   "metadata": {},
   "outputs": [
    {
     "name": "stdout",
     "output_type": "stream",
     "text": [
      "time:  369.8960190282014\n"
     ]
    }
   ],
   "source": [
    "start = timeit.default_timer()\n",
    "cv_forest = cross_validate(test_forest, var, target, scoring=['neg_mean_absolute_error','neg_mean_squared_error'], return_train_score=True, cv=5)\n",
    "stop = timeit.default_timer()\n",
    "\n",
    "print('time: ',stop-start)"
   ]
  },
  {
   "cell_type": "code",
   "execution_count": 77,
   "metadata": {},
   "outputs": [
    {
     "name": "stdout",
     "output_type": "stream",
     "text": [
      "[-0.36292071 -0.36276081 -0.36489346 -0.36403172 -0.364787  ]\n",
      "[-0.29044786 -0.29130447 -0.29886637 -0.29534025 -0.30701109]\n"
     ]
    }
   ],
   "source": [
    "print(cv_forest['train_neg_mean_absolute_error'])\n",
    "print(cv_forest['train_neg_mean_squared_error'])"
   ]
  },
  {
   "cell_type": "code",
   "execution_count": 78,
   "metadata": {},
   "outputs": [
    {
     "name": "stdout",
     "output_type": "stream",
     "text": [
      "[-0.98300467 -0.98199264 -0.95950743 -0.99118755 -0.98190623]\n",
      "[-2.18072445 -2.23154712 -1.9485578  -2.2361245  -1.95170937]\n"
     ]
    }
   ],
   "source": [
    "print(cv_forest['test_neg_mean_absolute_error'])\n",
    "print(cv_forest['test_neg_mean_squared_error'])"
   ]
  },
  {
   "cell_type": "code",
   "execution_count": 93,
   "metadata": {},
   "outputs": [],
   "source": [
    "forest = RandomForestRegressor(random_state=69)\n",
    "forest_params = {'n_estimators':[10,100,1000], 'max_features':['auto','log2',10]}"
   ]
  },
  {
   "cell_type": "code",
   "execution_count": 97,
   "metadata": {},
   "outputs": [],
   "source": [
    "forest_search = GridSearchCV(forest, param_grid=forest_params, scoring=['neg_mean_absolute_error','neg_mean_squared_error'], cv=5, n_jobs=6, refit='neg_mean_absolute_error')"
   ]
  },
  {
   "cell_type": "code",
   "execution_count": null,
   "metadata": {},
   "outputs": [],
   "source": [
    "start = timeit.default_timer()\n",
    "forest_search.fit(var, target)\n",
    "stop = timeit.default_timer()\n",
    "\n",
    "print('time: ', stop-start)"
   ]
  },
  {
   "cell_type": "code",
   "execution_count": null,
   "metadata": {},
   "outputs": [],
   "source": [
    "rand_df = pd.DataFrame(forest_search.cv_results_)\n",
    "base_score - (-1 * rand_df['mean_test_score'].max())"
   ]
  },
  {
   "cell_type": "code",
   "execution_count": null,
   "metadata": {},
   "outputs": [],
   "source": []
  }
 ],
 "metadata": {
  "kernelspec": {
   "display_name": "Python 3",
   "language": "python",
   "name": "python3"
  },
  "language_info": {
   "codemirror_mode": {
    "name": "ipython",
    "version": 3
   },
   "file_extension": ".py",
   "mimetype": "text/x-python",
   "name": "python",
   "nbconvert_exporter": "python",
   "pygments_lexer": "ipython3",
   "version": "3.6.6"
  }
 },
 "nbformat": 4,
 "nbformat_minor": 2
}
